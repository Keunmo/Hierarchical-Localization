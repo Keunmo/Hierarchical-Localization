{
 "cells": [
  {
   "cell_type": "markdown",
   "id": "f6fbdb5c",
   "metadata": {},
   "source": [
    "In this notebook, we will build a 3D map of a scene from a small set of images and then localize an image"
   ]
  },
  {
   "cell_type": "code",
   "execution_count": 10,
   "id": "e663b133",
   "metadata": {},
   "outputs": [
    {
     "name": "stdout",
     "output_type": "stream",
     "text": [
      "The autoreload extension is already loaded. To reload it, use:\n",
      "  %reload_ext autoreload\n"
     ]
    }
   ],
   "source": [
    "%load_ext autoreload\n",
    "%autoreload 2\n",
    "import tqdm, tqdm.notebook, pycolmap\n",
    "tqdm.tqdm = tqdm.notebook.tqdm  # notebook-friendly progress bars\n",
    "from pathlib import Path\n",
    "\n",
    "from hloc import extract_features, match_features, reconstruction, visualization, pairs_from_retrieval, localize_sfm, pairs_from_exhaustive\n",
    "from hloc.visualization import plot_images, read_image\n",
    "from hloc.utils import viz_3d, io, parsers, database"
   ]
  },
  {
   "attachments": {},
   "cell_type": "markdown",
   "id": "b500d21c",
   "metadata": {},
   "source": [
    "use superpoint, superglue, exhaustive matching. "
   ]
  },
  {
   "cell_type": "code",
   "execution_count": null,
   "id": "f15855bc",
   "metadata": {},
   "outputs": [],
   "source": [
    "dir(pycolmap.Reconstruction())"
   ]
  },
  {
   "cell_type": "code",
   "execution_count": 4,
   "id": "43898f09",
   "metadata": {},
   "outputs": [],
   "source": [
    "images = Path('/home/keunmo/workspace/dataset/s20fe-robjet-uw-43/images/')\n",
    "outputs = Path('/home/keunmo/workspace/dataset/s20fe-robjet-uw-43/hloc_output/')\n",
    "\n",
    "sfm_pairs = outputs / 'pairs-sfm.txt'\n",
    "loc_pairs = outputs / 'pairs-loc.txt'\n",
    "sfm_dir = outputs / 'sfm'\n",
    "features = outputs / 'features.h5'\n",
    "matches = outputs / 'matches.h5'\n",
    "\n",
    "feature_conf = extract_features.confs['superpoint_inloc']\n",
    "matcher_conf = match_features.confs['superglue']"
   ]
  },
  {
   "cell_type": "code",
   "execution_count": 16,
   "id": "8aeb9588",
   "metadata": {},
   "outputs": [
    {
     "data": {
      "text/plain": [
       "'3.jpg'"
      ]
     },
     "execution_count": 16,
     "metadata": {},
     "output_type": "execute_result"
    }
   ],
   "source": [
    "io.list_h5_names(features)[0]"
   ]
  },
  {
   "cell_type": "code",
   "execution_count": 18,
   "id": "9e190da3",
   "metadata": {},
   "outputs": [
    {
     "data": {
      "text/plain": [
       "2439"
      ]
     },
     "execution_count": 18,
     "metadata": {},
     "output_type": "execute_result"
    }
   ],
   "source": [
    "len(io.get_keypoints(features, '3.jpg'))"
   ]
  },
  {
   "cell_type": "code",
   "execution_count": 3,
   "id": "3f918d1a",
   "metadata": {},
   "outputs": [
    {
     "name": "stderr",
     "output_type": "stream",
     "text": [
      "[2023/04/10 13:42:46 hloc INFO] Extracting local features with configuration:\n",
      "{'model': {'max_keypoints': 4096, 'name': 'superpoint', 'nms_radius': 4},\n",
      " 'output': 'feats-superpoint-n4096-r1600',\n",
      " 'preprocessing': {'grayscale': True, 'resize_max': 1600}}\n"
     ]
    },
    {
     "name": "stdout",
     "output_type": "stream",
     "text": [
      "54 mapping images\n",
      "Loaded SuperPoint model\n"
     ]
    },
    {
     "name": "stderr",
     "output_type": "stream",
     "text": [
      "[2023/04/10 13:42:52 hloc INFO] Finished exporting features.\n",
      "[2023/04/10 13:42:52 hloc INFO] Found 1431 pairs.\n",
      "[2023/04/10 13:42:52 hloc INFO] Matching local features with configuration:\n",
      "{'model': {'name': 'superglue',\n",
      "           'sinkhorn_iterations': 50,\n",
      "           'weights': 'outdoor'},\n",
      " 'output': 'matches-superglue'}\n"
     ]
    },
    {
     "name": "stdout",
     "output_type": "stream",
     "text": [
      "Loaded SuperGlue model (\"outdoor\" weights)\n"
     ]
    },
    {
     "name": "stderr",
     "output_type": "stream",
     "text": [
      "[2023/04/10 13:45:52 hloc INFO] Finished exporting matches.\n",
      "[2023/04/10 13:45:52 hloc INFO] Creating an empty database...\n",
      "[2023/04/10 13:45:52 hloc INFO] Importing images into the database...\n",
      "[2023/04/10 13:45:57 hloc INFO] Importing features into the database...\n"
     ]
    },
    {
     "data": {
      "application/vnd.jupyter.widget-view+json": {
       "model_id": "69bc44f8480d4930845861b41ffb50da",
       "version_major": 2,
       "version_minor": 0
      },
      "text/plain": [
       "  0%|          | 0/54 [00:00<?, ?it/s]"
      ]
     },
     "metadata": {},
     "output_type": "display_data"
    },
    {
     "name": "stderr",
     "output_type": "stream",
     "text": [
      "[2023/04/10 13:45:57 hloc INFO] Importing matches into the database...\n"
     ]
    },
    {
     "data": {
      "application/vnd.jupyter.widget-view+json": {
       "model_id": "1a65ee2dc8d141b68ffaa22e36ce6ed2",
       "version_major": 2,
       "version_minor": 0
      },
      "text/plain": [
       "  0%|          | 0/1431 [00:00<?, ?it/s]"
      ]
     },
     "metadata": {},
     "output_type": "display_data"
    },
    {
     "name": "stderr",
     "output_type": "stream",
     "text": [
      "[2023/04/10 13:45:57 hloc INFO] Performing geometric verification of the matches...\n",
      "[2023/04/10 13:46:22 hloc INFO] Running 3D reconstruction...\n",
      "[2023/04/10 13:47:12 hloc INFO] Reconstructed 1 model(s).\n",
      "[2023/04/10 13:47:12 hloc INFO] Largest model is #0 with 54 images.\n",
      "[2023/04/10 13:47:12 hloc INFO] Reconstruction statistics:\n",
      "Reconstruction:\n",
      "\tnum_reg_images = 54\n",
      "\tnum_cameras = 1\n",
      "\tnum_points3D = 14871\n",
      "\tnum_observations = 40028\n",
      "\tmean_track_length = 2.69168\n",
      "\tmean_observations_per_image = 741.259\n",
      "\tmean_reprojection_error = 1.37832\n",
      "\tnum_input_images = 54\n"
     ]
    }
   ],
   "source": [
    "references = [p.relative_to(images).as_posix() for p in images.iterdir()]\n",
    "print(len(references), \"mapping images\")\n",
    "extract_features.main(feature_conf, images, image_list=references, feature_path=features)\n",
    "pairs_from_exhaustive.main(sfm_pairs, image_list=references)\n",
    "match_features.main(matcher_conf, sfm_pairs, features=features, matches=matches)\n",
    "\n",
    "mapper_options = pycolmap.IncrementalMapperOptions()\n",
    "mapper_options.ba_refine_focal_length = False\n",
    "mapper_options.ba_refine_extra_params = False\n",
    "mapper_options.ba_refine_principal_point = False\n",
    "mapper_options = mapper_options.todict()\n",
    "\n",
    "image_options = pycolmap.ImageReaderOptions()\n",
    "image_options.camera_model = 'OPENCV' # fx, fy, cx, cy, k1, k2, p1, p2\n",
    "image_options.camera_params = '1582.436430707376, 1579.117601109387, 1510.582207892258, 1988.252922889676, \\\n",
    "                                -0.0004238882159880583, 0.00007392309450114601, 0.01493723186454231, -0.01123193810676941'\n",
    "# image_options.todict()\n",
    "\n",
    "model = reconstruction.main(sfm_dir, images, sfm_pairs, features, matches, camera_mode=pycolmap.CameraMode.SINGLE, image_list=references, image_options=image_options, mapper_options=mapper_options)"
   ]
  },
  {
   "attachments": {},
   "cell_type": "markdown",
   "id": "8376f43e",
   "metadata": {},
   "source": [
    "use superpoint, superglue, netvlad retrieval matching. "
   ]
  },
  {
   "cell_type": "code",
   "execution_count": 8,
   "id": "4f14b637",
   "metadata": {},
   "outputs": [],
   "source": [
    "images = Path('/home/keunmo/workspace/dataset/s20fe-robjet-uw-43/images/')\n",
    "outputs = Path('/home/keunmo/workspace/dataset/s20fe-robjet-uw-43/hloc_refine_output/')\n",
    "\n",
    "sfm_pairs = outputs / 'pairs-sfm.txt'\n",
    "loc_pairs = outputs / 'pairs-loc.txt'\n",
    "sfm_dir = outputs / 'sfm'\n",
    "features = outputs / 'features.h5'\n",
    "matches = outputs / 'matches.h5'\n",
    "\n",
    "feature_conf = extract_features.confs['superpoint_inloc']\n",
    "matcher_conf = match_features.confs['superglue']"
   ]
  },
  {
   "cell_type": "code",
   "execution_count": 9,
   "id": "34947139",
   "metadata": {},
   "outputs": [
    {
     "name": "stderr",
     "output_type": "stream",
     "text": [
      "[2023/04/07 17:13:44 hloc INFO] Extracting local features with configuration:\n",
      "{'model': {'max_keypoints': 4096, 'name': 'superpoint', 'nms_radius': 4},\n",
      " 'output': 'feats-superpoint-n4096-r1600',\n",
      " 'preprocessing': {'grayscale': True, 'resize_max': 1600}}\n"
     ]
    },
    {
     "name": "stdout",
     "output_type": "stream",
     "text": [
      "54 mapping images\n",
      "Loaded SuperPoint model\n"
     ]
    },
    {
     "name": "stderr",
     "output_type": "stream",
     "text": [
      "[2023/04/07 17:13:47 hloc INFO] Finished exporting features.\n",
      "[2023/04/07 17:13:47 hloc INFO] Found 1431 pairs.\n",
      "[2023/04/07 17:13:47 hloc INFO] Matching local features with configuration:\n",
      "{'model': {'name': 'superglue',\n",
      "           'sinkhorn_iterations': 50,\n",
      "           'weights': 'outdoor'},\n",
      " 'output': 'matches-superglue'}\n"
     ]
    },
    {
     "name": "stdout",
     "output_type": "stream",
     "text": [
      "Loaded SuperGlue model (\"outdoor\" weights)\n"
     ]
    },
    {
     "name": "stderr",
     "output_type": "stream",
     "text": [
      "[2023/04/07 17:16:51 hloc INFO] Finished exporting matches.\n",
      "[2023/04/07 17:16:51 hloc INFO] Creating an empty database...\n",
      "[2023/04/07 17:16:51 hloc INFO] Importing images into the database...\n",
      "[2023/04/07 17:16:56 hloc INFO] Importing features into the database...\n"
     ]
    },
    {
     "data": {
      "application/vnd.jupyter.widget-view+json": {
       "model_id": "7ebbdcb4405b47b185b97e094a47f9d9",
       "version_major": 2,
       "version_minor": 0
      },
      "text/plain": [
       "  0%|          | 0/54 [00:00<?, ?it/s]"
      ]
     },
     "metadata": {},
     "output_type": "display_data"
    },
    {
     "name": "stderr",
     "output_type": "stream",
     "text": [
      "[2023/04/07 17:16:56 hloc INFO] Importing matches into the database...\n"
     ]
    },
    {
     "data": {
      "application/vnd.jupyter.widget-view+json": {
       "model_id": "1ce4811b48cd4765a0af917eab7b9382",
       "version_major": 2,
       "version_minor": 0
      },
      "text/plain": [
       "  0%|          | 0/1431 [00:00<?, ?it/s]"
      ]
     },
     "metadata": {},
     "output_type": "display_data"
    },
    {
     "name": "stderr",
     "output_type": "stream",
     "text": [
      "[2023/04/07 17:16:56 hloc INFO] Performing geometric verification of the matches...\n",
      "[2023/04/07 17:17:25 hloc INFO] Running 3D reconstruction...\n",
      "W0407 17:17:34.937197 145874 levenberg_marquardt_strategy.cc:116] Linear solver failure. Failed to compute a step: Eigen failure. Unable to perform dense Cholesky factorization.\n",
      "W0407 17:17:34.939117 145874 levenberg_marquardt_strategy.cc:116] Linear solver failure. Failed to compute a step: Eigen failure. Unable to perform dense Cholesky factorization.\n",
      "W0407 17:17:34.945113 145874 levenberg_marquardt_strategy.cc:116] Linear solver failure. Failed to compute a step: Eigen failure. Unable to perform dense Cholesky factorization.\n",
      "W0407 17:17:34.946710 145874 levenberg_marquardt_strategy.cc:116] Linear solver failure. Failed to compute a step: Eigen failure. Unable to perform dense Cholesky factorization.\n",
      "W0407 17:17:34.954885 145874 levenberg_marquardt_strategy.cc:116] Linear solver failure. Failed to compute a step: Eigen failure. Unable to perform dense Cholesky factorization.\n",
      "W0407 17:17:37.138190 145874 levenberg_marquardt_strategy.cc:116] Linear solver failure. Failed to compute a step: Eigen failure. Unable to perform dense Cholesky factorization.\n",
      "W0407 17:17:37.138841 145874 levenberg_marquardt_strategy.cc:116] Linear solver failure. Failed to compute a step: Eigen failure. Unable to perform dense Cholesky factorization.\n",
      "W0407 17:17:37.141726 145874 levenberg_marquardt_strategy.cc:116] Linear solver failure. Failed to compute a step: Eigen failure. Unable to perform dense Cholesky factorization.\n",
      "W0407 17:17:37.144480 145874 levenberg_marquardt_strategy.cc:116] Linear solver failure. Failed to compute a step: Eigen failure. Unable to perform dense Cholesky factorization.\n",
      "W0407 17:17:37.147226 145874 levenberg_marquardt_strategy.cc:116] Linear solver failure. Failed to compute a step: Eigen failure. Unable to perform dense Cholesky factorization.\n",
      "W0407 17:17:37.149961 145874 levenberg_marquardt_strategy.cc:116] Linear solver failure. Failed to compute a step: Eigen failure. Unable to perform dense Cholesky factorization.\n",
      "W0407 17:17:37.150573 145874 levenberg_marquardt_strategy.cc:116] Linear solver failure. Failed to compute a step: Eigen failure. Unable to perform dense Cholesky factorization.\n",
      "W0407 17:17:37.197466 145874 levenberg_marquardt_strategy.cc:116] Linear solver failure. Failed to compute a step: Eigen failure. Unable to perform dense Cholesky factorization.\n",
      "W0407 17:17:37.200275 145874 levenberg_marquardt_strategy.cc:116] Linear solver failure. Failed to compute a step: Eigen failure. Unable to perform dense Cholesky factorization.\n",
      "W0407 17:17:37.205205 145874 levenberg_marquardt_strategy.cc:116] Linear solver failure. Failed to compute a step: Eigen failure. Unable to perform dense Cholesky factorization.\n",
      "W0407 17:17:37.205842 145874 levenberg_marquardt_strategy.cc:116] Linear solver failure. Failed to compute a step: Eigen failure. Unable to perform dense Cholesky factorization.\n",
      "W0407 17:17:37.277400 145874 levenberg_marquardt_strategy.cc:116] Linear solver failure. Failed to compute a step: Eigen failure. Unable to perform dense Cholesky factorization.\n",
      "W0407 17:17:37.280166 145874 levenberg_marquardt_strategy.cc:116] Linear solver failure. Failed to compute a step: Eigen failure. Unable to perform dense Cholesky factorization.\n",
      "W0407 17:17:37.280814 145874 levenberg_marquardt_strategy.cc:116] Linear solver failure. Failed to compute a step: Eigen failure. Unable to perform dense Cholesky factorization.\n",
      "W0407 17:17:37.285715 145874 levenberg_marquardt_strategy.cc:116] Linear solver failure. Failed to compute a step: Eigen failure. Unable to perform dense Cholesky factorization.\n",
      "W0407 17:17:37.288544 145874 levenberg_marquardt_strategy.cc:116] Linear solver failure. Failed to compute a step: Eigen failure. Unable to perform dense Cholesky factorization.\n",
      "W0407 17:17:37.291471 145874 levenberg_marquardt_strategy.cc:116] Linear solver failure. Failed to compute a step: Eigen failure. Unable to perform dense Cholesky factorization.\n",
      "W0407 17:17:37.292146 145874 levenberg_marquardt_strategy.cc:116] Linear solver failure. Failed to compute a step: Eigen failure. Unable to perform dense Cholesky factorization.\n",
      "W0407 17:17:37.295002 145874 levenberg_marquardt_strategy.cc:116] Linear solver failure. Failed to compute a step: Eigen failure. Unable to perform dense Cholesky factorization.\n",
      "W0407 17:17:37.297840 145874 levenberg_marquardt_strategy.cc:116] Linear solver failure. Failed to compute a step: Eigen failure. Unable to perform dense Cholesky factorization.\n",
      "W0407 17:17:37.298494 145874 levenberg_marquardt_strategy.cc:116] Linear solver failure. Failed to compute a step: Eigen failure. Unable to perform dense Cholesky factorization.\n",
      "W0407 17:17:37.678488 145874 levenberg_marquardt_strategy.cc:116] Linear solver failure. Failed to compute a step: Eigen failure. Unable to perform dense Cholesky factorization.\n",
      "W0407 17:17:37.691844 145874 levenberg_marquardt_strategy.cc:116] Linear solver failure. Failed to compute a step: Eigen failure. Unable to perform dense Cholesky factorization.\n",
      "W0407 17:17:37.693732 145874 levenberg_marquardt_strategy.cc:116] Linear solver failure. Failed to compute a step: Eigen failure. Unable to perform dense Cholesky factorization.\n",
      "W0407 17:17:37.701440 145874 levenberg_marquardt_strategy.cc:116] Linear solver failure. Failed to compute a step: Eigen failure. Unable to perform dense Cholesky factorization.\n",
      "W0407 17:17:37.708846 145874 levenberg_marquardt_strategy.cc:116] Linear solver failure. Failed to compute a step: Eigen failure. Unable to perform dense Cholesky factorization.\n",
      "W0407 17:17:37.716346 145874 levenberg_marquardt_strategy.cc:116] Linear solver failure. Failed to compute a step: Eigen failure. Unable to perform dense Cholesky factorization.\n",
      "W0407 17:17:37.718129 145874 levenberg_marquardt_strategy.cc:116] Linear solver failure. Failed to compute a step: Eigen failure. Unable to perform dense Cholesky factorization.\n",
      "W0407 17:17:37.817664 145874 levenberg_marquardt_strategy.cc:116] Linear solver failure. Failed to compute a step: Eigen failure. Unable to perform dense Cholesky factorization.\n",
      "W0407 17:17:37.844024 145874 levenberg_marquardt_strategy.cc:116] Linear solver failure. Failed to compute a step: Eigen failure. Unable to perform dense Cholesky factorization.\n",
      "W0407 17:17:37.844553 145874 levenberg_marquardt_strategy.cc:116] Linear solver failure. Failed to compute a step: Eigen failure. Unable to perform dense Cholesky factorization.\n",
      "W0407 17:17:37.846838 145874 levenberg_marquardt_strategy.cc:116] Linear solver failure. Failed to compute a step: Eigen failure. Unable to perform dense Cholesky factorization.\n",
      "W0407 17:17:37.849179 145874 levenberg_marquardt_strategy.cc:116] Linear solver failure. Failed to compute a step: Eigen failure. Unable to perform dense Cholesky factorization.\n",
      "W0407 17:17:37.851497 145874 levenberg_marquardt_strategy.cc:116] Linear solver failure. Failed to compute a step: Eigen failure. Unable to perform dense Cholesky factorization.\n",
      "W0407 17:17:37.852035 145874 levenberg_marquardt_strategy.cc:116] Linear solver failure. Failed to compute a step: Eigen failure. Unable to perform dense Cholesky factorization.\n",
      "W0407 17:17:37.854390 145874 levenberg_marquardt_strategy.cc:116] Linear solver failure. Failed to compute a step: Eigen failure. Unable to perform dense Cholesky factorization.\n",
      "W0407 17:17:37.856753 145874 levenberg_marquardt_strategy.cc:116] Linear solver failure. Failed to compute a step: Eigen failure. Unable to perform dense Cholesky factorization.\n",
      "W0407 17:17:37.857267 145874 levenberg_marquardt_strategy.cc:116] Linear solver failure. Failed to compute a step: Eigen failure. Unable to perform dense Cholesky factorization.\n",
      "W0407 17:17:37.861382 145874 levenberg_marquardt_strategy.cc:116] Linear solver failure. Failed to compute a step: Eigen failure. Unable to perform dense Cholesky factorization.\n",
      "W0407 17:17:37.863677 145874 levenberg_marquardt_strategy.cc:116] Linear solver failure. Failed to compute a step: Eigen failure. Unable to perform dense Cholesky factorization.\n",
      "W0407 17:17:37.864190 145874 levenberg_marquardt_strategy.cc:116] Linear solver failure. Failed to compute a step: Eigen failure. Unable to perform dense Cholesky factorization.\n",
      "W0407 17:17:37.866477 145874 levenberg_marquardt_strategy.cc:116] Linear solver failure. Failed to compute a step: Eigen failure. Unable to perform dense Cholesky factorization.\n",
      "W0407 17:17:37.868760 145874 levenberg_marquardt_strategy.cc:116] Linear solver failure. Failed to compute a step: Eigen failure. Unable to perform dense Cholesky factorization.\n",
      "W0407 17:17:37.871049 145874 levenberg_marquardt_strategy.cc:116] Linear solver failure. Failed to compute a step: Eigen failure. Unable to perform dense Cholesky factorization.\n",
      "W0407 17:17:37.871562 145874 levenberg_marquardt_strategy.cc:116] Linear solver failure. Failed to compute a step: Eigen failure. Unable to perform dense Cholesky factorization.\n",
      "W0407 17:17:37.873920 145874 levenberg_marquardt_strategy.cc:116] Linear solver failure. Failed to compute a step: Eigen failure. Unable to perform dense Cholesky factorization.\n",
      "W0407 17:17:37.876287 145874 levenberg_marquardt_strategy.cc:116] Linear solver failure. Failed to compute a step: Eigen failure. Unable to perform dense Cholesky factorization.\n",
      "W0407 17:17:37.878705 145874 levenberg_marquardt_strategy.cc:116] Linear solver failure. Failed to compute a step: Eigen failure. Unable to perform dense Cholesky factorization.\n",
      "W0407 17:17:37.879225 145874 levenberg_marquardt_strategy.cc:116] Linear solver failure. Failed to compute a step: Eigen failure. Unable to perform dense Cholesky factorization.\n",
      "W0407 17:17:37.883404 145874 levenberg_marquardt_strategy.cc:116] Linear solver failure. Failed to compute a step: Eigen failure. Unable to perform dense Cholesky factorization.\n",
      "W0407 17:17:37.883919 145874 levenberg_marquardt_strategy.cc:116] Linear solver failure. Failed to compute a step: Eigen failure. Unable to perform dense Cholesky factorization.\n",
      "W0407 17:17:37.907097 145874 levenberg_marquardt_strategy.cc:116] Linear solver failure. Failed to compute a step: Eigen failure. Unable to perform dense Cholesky factorization.\n",
      "W0407 17:17:37.909535 145874 levenberg_marquardt_strategy.cc:116] Linear solver failure. Failed to compute a step: Eigen failure. Unable to perform dense Cholesky factorization.\n",
      "W0407 17:17:37.910110 145874 levenberg_marquardt_strategy.cc:116] Linear solver failure. Failed to compute a step: Eigen failure. Unable to perform dense Cholesky factorization.\n",
      "W0407 17:17:37.914398 145874 levenberg_marquardt_strategy.cc:116] Linear solver failure. Failed to compute a step: Eigen failure. Unable to perform dense Cholesky factorization.\n",
      "W0407 17:17:37.914919 145874 levenberg_marquardt_strategy.cc:116] Linear solver failure. Failed to compute a step: Eigen failure. Unable to perform dense Cholesky factorization.\n",
      "W0407 17:17:37.919004 145874 levenberg_marquardt_strategy.cc:116] Linear solver failure. Failed to compute a step: Eigen failure. Unable to perform dense Cholesky factorization.\n",
      "W0407 17:17:37.919534 145874 levenberg_marquardt_strategy.cc:116] Linear solver failure. Failed to compute a step: Eigen failure. Unable to perform dense Cholesky factorization.\n",
      "W0407 17:17:37.923698 145874 levenberg_marquardt_strategy.cc:116] Linear solver failure. Failed to compute a step: Eigen failure. Unable to perform dense Cholesky factorization.\n",
      "W0407 17:17:37.924299 145874 levenberg_marquardt_strategy.cc:116] Linear solver failure. Failed to compute a step: Eigen failure. Unable to perform dense Cholesky factorization.\n",
      "W0407 17:17:37.926793 145874 levenberg_marquardt_strategy.cc:116] Linear solver failure. Failed to compute a step: Eigen failure. Unable to perform dense Cholesky factorization.\n",
      "W0407 17:17:37.930990 145874 levenberg_marquardt_strategy.cc:116] Linear solver failure. Failed to compute a step: Eigen failure. Unable to perform dense Cholesky factorization.\n",
      "W0407 17:17:37.931499 145874 levenberg_marquardt_strategy.cc:116] Linear solver failure. Failed to compute a step: Eigen failure. Unable to perform dense Cholesky factorization.\n",
      "W0407 17:17:37.933827 145874 levenberg_marquardt_strategy.cc:116] Linear solver failure. Failed to compute a step: Eigen failure. Unable to perform dense Cholesky factorization.\n",
      "W0407 17:17:37.936131 145874 levenberg_marquardt_strategy.cc:116] Linear solver failure. Failed to compute a step: Eigen failure. Unable to perform dense Cholesky factorization.\n",
      "W0407 17:17:37.938431 145874 levenberg_marquardt_strategy.cc:116] Linear solver failure. Failed to compute a step: Eigen failure. Unable to perform dense Cholesky factorization.\n",
      "W0407 17:17:37.938936 145874 levenberg_marquardt_strategy.cc:116] Linear solver failure. Failed to compute a step: Eigen failure. Unable to perform dense Cholesky factorization.\n",
      "W0407 17:17:37.941421 145874 levenberg_marquardt_strategy.cc:116] Linear solver failure. Failed to compute a step: Eigen failure. Unable to perform dense Cholesky factorization.\n",
      "W0407 17:17:37.943912 145874 levenberg_marquardt_strategy.cc:116] Linear solver failure. Failed to compute a step: Eigen failure. Unable to perform dense Cholesky factorization.\n",
      "W0407 17:17:37.946235 145874 levenberg_marquardt_strategy.cc:116] Linear solver failure. Failed to compute a step: Eigen failure. Unable to perform dense Cholesky factorization.\n",
      "W0407 17:17:37.946750 145874 levenberg_marquardt_strategy.cc:116] Linear solver failure. Failed to compute a step: Eigen failure. Unable to perform dense Cholesky factorization.\n",
      "W0407 17:17:37.949121 145874 levenberg_marquardt_strategy.cc:116] Linear solver failure. Failed to compute a step: Eigen failure. Unable to perform dense Cholesky factorization.\n",
      "W0407 17:17:37.951434 145874 levenberg_marquardt_strategy.cc:116] Linear solver failure. Failed to compute a step: Eigen failure. Unable to perform dense Cholesky factorization.\n",
      "W0407 17:17:37.951969 145874 levenberg_marquardt_strategy.cc:116] Linear solver failure. Failed to compute a step: Eigen failure. Unable to perform dense Cholesky factorization.\n",
      "W0407 17:17:37.973309 145874 levenberg_marquardt_strategy.cc:116] Linear solver failure. Failed to compute a step: Eigen failure. Unable to perform dense Cholesky factorization.\n",
      "W0407 17:17:37.975800 145874 levenberg_marquardt_strategy.cc:116] Linear solver failure. Failed to compute a step: Eigen failure. Unable to perform dense Cholesky factorization.\n",
      "W0407 17:17:37.976330 145874 levenberg_marquardt_strategy.cc:116] Linear solver failure. Failed to compute a step: Eigen failure. Unable to perform dense Cholesky factorization.\n",
      "W0407 17:17:37.978685 145874 levenberg_marquardt_strategy.cc:116] Linear solver failure. Failed to compute a step: Eigen failure. Unable to perform dense Cholesky factorization.\n",
      "W0407 17:17:37.981015 145874 levenberg_marquardt_strategy.cc:116] Linear solver failure. Failed to compute a step: Eigen failure. Unable to perform dense Cholesky factorization.\n",
      "W0407 17:17:37.981539 145874 levenberg_marquardt_strategy.cc:116] Linear solver failure. Failed to compute a step: Eigen failure. Unable to perform dense Cholesky factorization.\n",
      "W0407 17:17:37.985620 145874 levenberg_marquardt_strategy.cc:116] Linear solver failure. Failed to compute a step: Eigen failure. Unable to perform dense Cholesky factorization.\n",
      "W0407 17:17:37.986135 145874 levenberg_marquardt_strategy.cc:116] Linear solver failure. Failed to compute a step: Eigen failure. Unable to perform dense Cholesky factorization.\n",
      "W0407 17:17:37.990296 145874 levenberg_marquardt_strategy.cc:116] Linear solver failure. Failed to compute a step: Eigen failure. Unable to perform dense Cholesky factorization.\n",
      "W0407 17:17:37.992719 145874 levenberg_marquardt_strategy.cc:116] Linear solver failure. Failed to compute a step: Eigen failure. Unable to perform dense Cholesky factorization.\n",
      "W0407 17:17:37.995100 145874 levenberg_marquardt_strategy.cc:116] Linear solver failure. Failed to compute a step: Eigen failure. Unable to perform dense Cholesky factorization.\n",
      "W0407 17:17:37.995616 145874 levenberg_marquardt_strategy.cc:116] Linear solver failure. Failed to compute a step: Eigen failure. Unable to perform dense Cholesky factorization.\n",
      "W0407 17:17:37.997927 145874 levenberg_marquardt_strategy.cc:116] Linear solver failure. Failed to compute a step: Eigen failure. Unable to perform dense Cholesky factorization.\n",
      "W0407 17:17:38.000255 145874 levenberg_marquardt_strategy.cc:116] Linear solver failure. Failed to compute a step: Eigen failure. Unable to perform dense Cholesky factorization.\n",
      "W0407 17:17:38.000787 145874 levenberg_marquardt_strategy.cc:116] Linear solver failure. Failed to compute a step: Eigen failure. Unable to perform dense Cholesky factorization.\n",
      "W0407 17:17:38.003111 145874 levenberg_marquardt_strategy.cc:116] Linear solver failure. Failed to compute a step: Eigen failure. Unable to perform dense Cholesky factorization.\n",
      "W0407 17:17:38.005435 145874 levenberg_marquardt_strategy.cc:116] Linear solver failure. Failed to compute a step: Eigen failure. Unable to perform dense Cholesky factorization.\n",
      "W0407 17:17:38.007802 145874 levenberg_marquardt_strategy.cc:116] Linear solver failure. Failed to compute a step: Eigen failure. Unable to perform dense Cholesky factorization.\n",
      "W0407 17:17:38.010151 145874 levenberg_marquardt_strategy.cc:116] Linear solver failure. Failed to compute a step: Eigen failure. Unable to perform dense Cholesky factorization.\n",
      "W0407 17:17:38.010668 145874 levenberg_marquardt_strategy.cc:116] Linear solver failure. Failed to compute a step: Eigen failure. Unable to perform dense Cholesky factorization.\n",
      "W0407 17:17:38.014779 145874 levenberg_marquardt_strategy.cc:116] Linear solver failure. Failed to compute a step: Eigen failure. Unable to perform dense Cholesky factorization.\n",
      "W0407 17:17:38.015311 145874 levenberg_marquardt_strategy.cc:116] Linear solver failure. Failed to compute a step: Eigen failure. Unable to perform dense Cholesky factorization.\n",
      "W0407 17:17:38.017642 145874 levenberg_marquardt_strategy.cc:116] Linear solver failure. Failed to compute a step: Eigen failure. Unable to perform dense Cholesky factorization.\n",
      "W0407 17:17:38.352595 145874 levenberg_marquardt_strategy.cc:116] Linear solver failure. Failed to compute a step: Eigen failure. Unable to perform dense Cholesky factorization.\n",
      "W0407 17:17:38.357198 145874 levenberg_marquardt_strategy.cc:116] Linear solver failure. Failed to compute a step: Eigen failure. Unable to perform dense Cholesky factorization.\n",
      "W0407 17:17:38.361383 145874 levenberg_marquardt_strategy.cc:116] Linear solver failure. Failed to compute a step: Eigen failure. Unable to perform dense Cholesky factorization.\n",
      "W0407 17:17:38.361958 145874 levenberg_marquardt_strategy.cc:116] Linear solver failure. Failed to compute a step: Eigen failure. Unable to perform dense Cholesky factorization.\n",
      "W0407 17:17:38.364559 145874 levenberg_marquardt_strategy.cc:116] Linear solver failure. Failed to compute a step: Eigen failure. Unable to perform dense Cholesky factorization.\n",
      "W0407 17:17:38.367797 145874 levenberg_marquardt_strategy.cc:116] Linear solver failure. Failed to compute a step: Eigen failure. Unable to perform dense Cholesky factorization.\n",
      "W0407 17:17:50.146535 145874 levenberg_marquardt_strategy.cc:116] Linear solver failure. Failed to compute a step: Eigen failure. Unable to perform dense Cholesky factorization.\n",
      "W0407 17:17:50.149538 145874 levenberg_marquardt_strategy.cc:116] Linear solver failure. Failed to compute a step: Eigen failure. Unable to perform dense Cholesky factorization.\n",
      "W0407 17:17:50.181828 145874 levenberg_marquardt_strategy.cc:116] Linear solver failure. Failed to compute a step: Eigen failure. Unable to perform dense Cholesky factorization.\n",
      "W0407 17:17:50.184693 145874 levenberg_marquardt_strategy.cc:116] Linear solver failure. Failed to compute a step: Eigen failure. Unable to perform dense Cholesky factorization.\n",
      "W0407 17:17:50.187563 145874 levenberg_marquardt_strategy.cc:116] Linear solver failure. Failed to compute a step: Eigen failure. Unable to perform dense Cholesky factorization.\n",
      "W0407 17:17:50.193370 145874 levenberg_marquardt_strategy.cc:116] Linear solver failure. Failed to compute a step: Eigen failure. Unable to perform dense Cholesky factorization.\n",
      "W0407 17:17:50.196225 145874 levenberg_marquardt_strategy.cc:116] Linear solver failure. Failed to compute a step: Eigen failure. Unable to perform dense Cholesky factorization.\n",
      "W0407 17:17:50.196869 145874 levenberg_marquardt_strategy.cc:116] Linear solver failure. Failed to compute a step: Eigen failure. Unable to perform dense Cholesky factorization.\n",
      "W0407 17:17:50.201900 145874 levenberg_marquardt_strategy.cc:116] Linear solver failure. Failed to compute a step: Eigen failure. Unable to perform dense Cholesky factorization.\n",
      "W0407 17:17:50.204718 145874 levenberg_marquardt_strategy.cc:116] Linear solver failure. Failed to compute a step: Eigen failure. Unable to perform dense Cholesky factorization.\n",
      "W0407 17:17:50.207518 145874 levenberg_marquardt_strategy.cc:116] Linear solver failure. Failed to compute a step: Eigen failure. Unable to perform dense Cholesky factorization.\n",
      "W0407 17:17:50.208140 145874 levenberg_marquardt_strategy.cc:116] Linear solver failure. Failed to compute a step: Eigen failure. Unable to perform dense Cholesky factorization.\n",
      "W0407 17:17:50.211019 145874 levenberg_marquardt_strategy.cc:116] Linear solver failure. Failed to compute a step: Eigen failure. Unable to perform dense Cholesky factorization.\n",
      "W0407 17:17:50.213902 145874 levenberg_marquardt_strategy.cc:116] Linear solver failure. Failed to compute a step: Eigen failure. Unable to perform dense Cholesky factorization.\n",
      "W0407 17:17:50.216811 145874 levenberg_marquardt_strategy.cc:116] Linear solver failure. Failed to compute a step: Eigen failure. Unable to perform dense Cholesky factorization.\n",
      "W0407 17:17:50.219620 145874 levenberg_marquardt_strategy.cc:116] Linear solver failure. Failed to compute a step: Eigen failure. Unable to perform dense Cholesky factorization.\n",
      "W0407 17:17:50.220238 145874 levenberg_marquardt_strategy.cc:116] Linear solver failure. Failed to compute a step: Eigen failure. Unable to perform dense Cholesky factorization.\n",
      "W0407 17:17:50.223047 145874 levenberg_marquardt_strategy.cc:116] Linear solver failure. Failed to compute a step: Eigen failure. Unable to perform dense Cholesky factorization.\n",
      "W0407 17:17:50.225821 145874 levenberg_marquardt_strategy.cc:116] Linear solver failure. Failed to compute a step: Eigen failure. Unable to perform dense Cholesky factorization.\n",
      "W0407 17:17:50.228670 145874 levenberg_marquardt_strategy.cc:116] Linear solver failure. Failed to compute a step: Eigen failure. Unable to perform dense Cholesky factorization.\n",
      "W0407 17:17:50.229300 145874 levenberg_marquardt_strategy.cc:116] Linear solver failure. Failed to compute a step: Eigen failure. Unable to perform dense Cholesky factorization.\n",
      "W0407 17:17:50.232141 145874 levenberg_marquardt_strategy.cc:116] Linear solver failure. Failed to compute a step: Eigen failure. Unable to perform dense Cholesky factorization.\n",
      "W0407 17:17:50.257560 145874 levenberg_marquardt_strategy.cc:116] Linear solver failure. Failed to compute a step: Eigen failure. Unable to perform dense Cholesky factorization.\n",
      "W0407 17:17:50.260444 145874 levenberg_marquardt_strategy.cc:116] Linear solver failure. Failed to compute a step: Eigen failure. Unable to perform dense Cholesky factorization.\n",
      "W0407 17:17:50.263339 145874 levenberg_marquardt_strategy.cc:116] Linear solver failure. Failed to compute a step: Eigen failure. Unable to perform dense Cholesky factorization.\n",
      "W0407 17:17:50.263969 145874 levenberg_marquardt_strategy.cc:116] Linear solver failure. Failed to compute a step: Eigen failure. Unable to perform dense Cholesky factorization.\n",
      "W0407 17:17:50.266798 145874 levenberg_marquardt_strategy.cc:116] Linear solver failure. Failed to compute a step: Eigen failure. Unable to perform dense Cholesky factorization.\n",
      "W0407 17:17:50.271760 145874 levenberg_marquardt_strategy.cc:116] Linear solver failure. Failed to compute a step: Eigen failure. Unable to perform dense Cholesky factorization.\n",
      "W0407 17:17:50.272384 145874 levenberg_marquardt_strategy.cc:116] Linear solver failure. Failed to compute a step: Eigen failure. Unable to perform dense Cholesky factorization.\n",
      "W0407 17:17:50.275197 145874 levenberg_marquardt_strategy.cc:116] Linear solver failure. Failed to compute a step: Eigen failure. Unable to perform dense Cholesky factorization.\n",
      "W0407 17:17:50.278059 145874 levenberg_marquardt_strategy.cc:116] Linear solver failure. Failed to compute a step: Eigen failure. Unable to perform dense Cholesky factorization.\n",
      "W0407 17:17:50.280977 145874 levenberg_marquardt_strategy.cc:116] Linear solver failure. Failed to compute a step: Eigen failure. Unable to perform dense Cholesky factorization.\n",
      "W0407 17:17:50.281602 145874 levenberg_marquardt_strategy.cc:116] Linear solver failure. Failed to compute a step: Eigen failure. Unable to perform dense Cholesky factorization.\n",
      "W0407 17:17:50.284492 145874 levenberg_marquardt_strategy.cc:116] Linear solver failure. Failed to compute a step: Eigen failure. Unable to perform dense Cholesky factorization.\n",
      "W0407 17:17:50.287276 145874 levenberg_marquardt_strategy.cc:116] Linear solver failure. Failed to compute a step: Eigen failure. Unable to perform dense Cholesky factorization.\n",
      "W0407 17:17:50.290099 145874 levenberg_marquardt_strategy.cc:116] Linear solver failure. Failed to compute a step: Eigen failure. Unable to perform dense Cholesky factorization.\n",
      "W0407 17:17:50.290724 145874 levenberg_marquardt_strategy.cc:116] Linear solver failure. Failed to compute a step: Eigen failure. Unable to perform dense Cholesky factorization.\n",
      "W0407 17:17:50.295817 145874 levenberg_marquardt_strategy.cc:116] Linear solver failure. Failed to compute a step: Eigen failure. Unable to perform dense Cholesky factorization.\n",
      "W0407 17:17:50.298718 145874 levenberg_marquardt_strategy.cc:116] Linear solver failure. Failed to compute a step: Eigen failure. Unable to perform dense Cholesky factorization.\n",
      "W0407 17:17:50.299343 145874 levenberg_marquardt_strategy.cc:116] Linear solver failure. Failed to compute a step: Eigen failure. Unable to perform dense Cholesky factorization.\n",
      "W0407 17:17:50.302167 145874 levenberg_marquardt_strategy.cc:116] Linear solver failure. Failed to compute a step: Eigen failure. Unable to perform dense Cholesky factorization.\n",
      "W0407 17:17:50.305035 145874 levenberg_marquardt_strategy.cc:116] Linear solver failure. Failed to compute a step: Eigen failure. Unable to perform dense Cholesky factorization.\n",
      "W0407 17:17:50.307986 145874 levenberg_marquardt_strategy.cc:116] Linear solver failure. Failed to compute a step: Eigen failure. Unable to perform dense Cholesky factorization.\n",
      "W0407 17:17:50.310902 145874 levenberg_marquardt_strategy.cc:116] Linear solver failure. Failed to compute a step: Eigen failure. Unable to perform dense Cholesky factorization.\n",
      "W0407 17:17:50.311533 145874 levenberg_marquardt_strategy.cc:116] Linear solver failure. Failed to compute a step: Eigen failure. Unable to perform dense Cholesky factorization.\n",
      "W0407 17:18:07.300655 145874 levenberg_marquardt_strategy.cc:116] Linear solver failure. Failed to compute a step: Eigen failure. Unable to perform dense Cholesky factorization.\n",
      "W0407 17:18:08.365309 145874 levenberg_marquardt_strategy.cc:116] Linear solver failure. Failed to compute a step: Eigen failure. Unable to perform dense Cholesky factorization.\n",
      "W0407 17:18:09.914651 145874 levenberg_marquardt_strategy.cc:116] Linear solver failure. Failed to compute a step: Eigen failure. Unable to perform dense Cholesky factorization.\n",
      "W0407 17:18:09.915362 145874 levenberg_marquardt_strategy.cc:116] Linear solver failure. Failed to compute a step: Eigen failure. Unable to perform dense Cholesky factorization.\n",
      "W0407 17:18:09.920897 145874 levenberg_marquardt_strategy.cc:116] Linear solver failure. Failed to compute a step: Eigen failure. Unable to perform dense Cholesky factorization.\n",
      "W0407 17:18:09.921563 145874 levenberg_marquardt_strategy.cc:116] Linear solver failure. Failed to compute a step: Eigen failure. Unable to perform dense Cholesky factorization.\n",
      "W0407 17:18:09.952067 145874 levenberg_marquardt_strategy.cc:116] Linear solver failure. Failed to compute a step: Eigen failure. Unable to perform dense Cholesky factorization.\n",
      "W0407 17:18:17.654227 145874 levenberg_marquardt_strategy.cc:116] Linear solver failure. Failed to compute a step: Eigen failure. Unable to perform dense Cholesky factorization.\n",
      "W0407 17:18:17.662823 145874 levenberg_marquardt_strategy.cc:116] Linear solver failure. Failed to compute a step: Eigen failure. Unable to perform dense Cholesky factorization.\n",
      "W0407 17:18:17.677961 145874 levenberg_marquardt_strategy.cc:116] Linear solver failure. Failed to compute a step: Eigen failure. Unable to perform dense Cholesky factorization.\n",
      "W0407 17:18:17.686098 145874 levenberg_marquardt_strategy.cc:116] Linear solver failure. Failed to compute a step: Eigen failure. Unable to perform dense Cholesky factorization.\n",
      "W0407 17:18:17.687616 145874 levenberg_marquardt_strategy.cc:116] Linear solver failure. Failed to compute a step: Eigen failure. Unable to perform dense Cholesky factorization.\n",
      "W0407 17:18:17.689224 145874 levenberg_marquardt_strategy.cc:116] Linear solver failure. Failed to compute a step: Eigen failure. Unable to perform dense Cholesky factorization.\n",
      "W0407 17:18:25.345739 145874 levenberg_marquardt_strategy.cc:116] Linear solver failure. Failed to compute a step: Eigen failure. Unable to perform dense Cholesky factorization.\n",
      "W0407 17:18:25.348731 145874 levenberg_marquardt_strategy.cc:116] Linear solver failure. Failed to compute a step: Eigen failure. Unable to perform dense Cholesky factorization.\n",
      "W0407 17:18:25.351668 145874 levenberg_marquardt_strategy.cc:116] Linear solver failure. Failed to compute a step: Eigen failure. Unable to perform dense Cholesky factorization.\n",
      "W0407 17:18:25.354633 145874 levenberg_marquardt_strategy.cc:116] Linear solver failure. Failed to compute a step: Eigen failure. Unable to perform dense Cholesky factorization.\n",
      "W0407 17:18:25.357623 145874 levenberg_marquardt_strategy.cc:116] Linear solver failure. Failed to compute a step: Eigen failure. Unable to perform dense Cholesky factorization.\n",
      "W0407 17:18:25.358276 145874 levenberg_marquardt_strategy.cc:116] Linear solver failure. Failed to compute a step: Eigen failure. Unable to perform dense Cholesky factorization.\n",
      "W0407 17:18:25.361219 145874 levenberg_marquardt_strategy.cc:116] Linear solver failure. Failed to compute a step: Eigen failure. Unable to perform dense Cholesky factorization.\n",
      "W0407 17:18:25.364234 145874 levenberg_marquardt_strategy.cc:116] Linear solver failure. Failed to compute a step: Eigen failure. Unable to perform dense Cholesky factorization.\n",
      "W0407 17:18:25.369593 145874 levenberg_marquardt_strategy.cc:116] Linear solver failure. Failed to compute a step: Eigen failure. Unable to perform dense Cholesky factorization.\n",
      "W0407 17:18:25.370240 145874 levenberg_marquardt_strategy.cc:116] Linear solver failure. Failed to compute a step: Eigen failure. Unable to perform dense Cholesky factorization.\n",
      "W0407 17:18:25.373198 145874 levenberg_marquardt_strategy.cc:116] Linear solver failure. Failed to compute a step: Eigen failure. Unable to perform dense Cholesky factorization.\n",
      "W0407 17:18:25.376188 145874 levenberg_marquardt_strategy.cc:116] Linear solver failure. Failed to compute a step: Eigen failure. Unable to perform dense Cholesky factorization.\n",
      "W0407 17:18:25.376873 145874 levenberg_marquardt_strategy.cc:116] Linear solver failure. Failed to compute a step: Eigen failure. Unable to perform dense Cholesky factorization.\n",
      "W0407 17:18:25.415683 145874 levenberg_marquardt_strategy.cc:116] Linear solver failure. Failed to compute a step: Eigen failure. Unable to perform dense Cholesky factorization.\n",
      "W0407 17:18:25.420831 145874 levenberg_marquardt_strategy.cc:116] Linear solver failure. Failed to compute a step: Eigen failure. Unable to perform dense Cholesky factorization.\n",
      "W0407 17:18:25.421479 145874 levenberg_marquardt_strategy.cc:116] Linear solver failure. Failed to compute a step: Eigen failure. Unable to perform dense Cholesky factorization.\n",
      "W0407 17:18:25.426542 145874 levenberg_marquardt_strategy.cc:116] Linear solver failure. Failed to compute a step: Eigen failure. Unable to perform dense Cholesky factorization.\n",
      "W0407 17:18:25.429510 145874 levenberg_marquardt_strategy.cc:116] Linear solver failure. Failed to compute a step: Eigen failure. Unable to perform dense Cholesky factorization.\n",
      "W0407 17:18:25.430194 145874 levenberg_marquardt_strategy.cc:116] Linear solver failure. Failed to compute a step: Eigen failure. Unable to perform dense Cholesky factorization.\n",
      "W0407 17:18:25.435420 145874 levenberg_marquardt_strategy.cc:116] Linear solver failure. Failed to compute a step: Eigen failure. Unable to perform dense Cholesky factorization.\n",
      "W0407 17:18:25.436059 145874 levenberg_marquardt_strategy.cc:116] Linear solver failure. Failed to compute a step: Eigen failure. Unable to perform dense Cholesky factorization.\n",
      "W0407 17:18:25.438978 145874 levenberg_marquardt_strategy.cc:116] Linear solver failure. Failed to compute a step: Eigen failure. Unable to perform dense Cholesky factorization.\n",
      "W0407 17:18:25.441913 145874 levenberg_marquardt_strategy.cc:116] Linear solver failure. Failed to compute a step: Eigen failure. Unable to perform dense Cholesky factorization.\n",
      "W0407 17:18:25.444887 145874 levenberg_marquardt_strategy.cc:116] Linear solver failure. Failed to compute a step: Eigen failure. Unable to perform dense Cholesky factorization.\n",
      "W0407 17:18:25.445545 145874 levenberg_marquardt_strategy.cc:116] Linear solver failure. Failed to compute a step: Eigen failure. Unable to perform dense Cholesky factorization.\n",
      "W0407 17:18:25.450747 145874 levenberg_marquardt_strategy.cc:116] Linear solver failure. Failed to compute a step: Eigen failure. Unable to perform dense Cholesky factorization.\n",
      "W0407 17:18:25.451421 145874 levenberg_marquardt_strategy.cc:116] Linear solver failure. Failed to compute a step: Eigen failure. Unable to perform dense Cholesky factorization.\n",
      "W0407 17:18:25.456632 145874 levenberg_marquardt_strategy.cc:116] Linear solver failure. Failed to compute a step: Eigen failure. Unable to perform dense Cholesky factorization.\n",
      "W0407 17:18:25.459560 145874 levenberg_marquardt_strategy.cc:116] Linear solver failure. Failed to compute a step: Eigen failure. Unable to perform dense Cholesky factorization.\n",
      "W0407 17:18:25.460216 145874 levenberg_marquardt_strategy.cc:116] Linear solver failure. Failed to compute a step: Eigen failure. Unable to perform dense Cholesky factorization.\n",
      "W0407 17:18:25.497979 145874 levenberg_marquardt_strategy.cc:116] Linear solver failure. Failed to compute a step: Eigen failure. Unable to perform dense Cholesky factorization.\n",
      "W0407 17:18:25.500878 145874 levenberg_marquardt_strategy.cc:116] Linear solver failure. Failed to compute a step: Eigen failure. Unable to perform dense Cholesky factorization.\n",
      "W0407 17:18:25.501538 145874 levenberg_marquardt_strategy.cc:116] Linear solver failure. Failed to compute a step: Eigen failure. Unable to perform dense Cholesky factorization.\n",
      "W0407 17:18:25.504441 145874 levenberg_marquardt_strategy.cc:116] Linear solver failure. Failed to compute a step: Eigen failure. Unable to perform dense Cholesky factorization.\n",
      "W0407 17:18:25.510299 145874 levenberg_marquardt_strategy.cc:116] Linear solver failure. Failed to compute a step: Eigen failure. Unable to perform dense Cholesky factorization.\n",
      "W0407 17:18:25.510982 145874 levenberg_marquardt_strategy.cc:116] Linear solver failure. Failed to compute a step: Eigen failure. Unable to perform dense Cholesky factorization.\n",
      "W0407 17:18:25.516208 145874 levenberg_marquardt_strategy.cc:116] Linear solver failure. Failed to compute a step: Eigen failure. Unable to perform dense Cholesky factorization.\n",
      "W0407 17:18:25.516881 145874 levenberg_marquardt_strategy.cc:116] Linear solver failure. Failed to compute a step: Eigen failure. Unable to perform dense Cholesky factorization.\n",
      "W0407 17:18:25.522037 145874 levenberg_marquardt_strategy.cc:116] Linear solver failure. Failed to compute a step: Eigen failure. Unable to perform dense Cholesky factorization.\n",
      "W0407 17:18:25.522702 145874 levenberg_marquardt_strategy.cc:116] Linear solver failure. Failed to compute a step: Eigen failure. Unable to perform dense Cholesky factorization.\n",
      "W0407 17:18:25.527819 145874 levenberg_marquardt_strategy.cc:116] Linear solver failure. Failed to compute a step: Eigen failure. Unable to perform dense Cholesky factorization.\n",
      "W0407 17:18:25.528509 145874 levenberg_marquardt_strategy.cc:116] Linear solver failure. Failed to compute a step: Eigen failure. Unable to perform dense Cholesky factorization.\n",
      "W0407 17:18:25.531509 145874 levenberg_marquardt_strategy.cc:116] Linear solver failure. Failed to compute a step: Eigen failure. Unable to perform dense Cholesky factorization.\n",
      "W0407 17:18:25.534464 145874 levenberg_marquardt_strategy.cc:116] Linear solver failure. Failed to compute a step: Eigen failure. Unable to perform dense Cholesky factorization.\n",
      "W0407 17:18:25.535144 145874 levenberg_marquardt_strategy.cc:116] Linear solver failure. Failed to compute a step: Eigen failure. Unable to perform dense Cholesky factorization.\n",
      "W0407 17:18:25.540316 145874 levenberg_marquardt_strategy.cc:116] Linear solver failure. Failed to compute a step: Eigen failure. Unable to perform dense Cholesky factorization.\n",
      "W0407 17:18:25.540977 145874 levenberg_marquardt_strategy.cc:116] Linear solver failure. Failed to compute a step: Eigen failure. Unable to perform dense Cholesky factorization.\n",
      "W0407 17:18:25.546278 145874 levenberg_marquardt_strategy.cc:116] Linear solver failure. Failed to compute a step: Eigen failure. Unable to perform dense Cholesky factorization.\n",
      "W0407 17:18:25.547224 145874 levenberg_marquardt_strategy.cc:116] Linear solver failure. Failed to compute a step: Eigen failure. Unable to perform dense Cholesky factorization.\n",
      "W0407 17:18:25.552580 145874 levenberg_marquardt_strategy.cc:116] Linear solver failure. Failed to compute a step: Eigen failure. Unable to perform dense Cholesky factorization.\n",
      "W0407 17:18:28.634871 145874 levenberg_marquardt_strategy.cc:116] Linear solver failure. Failed to compute a step: Eigen failure. Unable to perform dense Cholesky factorization.\n",
      "W0407 17:18:28.638317 145874 levenberg_marquardt_strategy.cc:116] Linear solver failure. Failed to compute a step: Eigen failure. Unable to perform dense Cholesky factorization.\n",
      "W0407 17:18:28.641865 145874 levenberg_marquardt_strategy.cc:116] Linear solver failure. Failed to compute a step: Eigen failure. Unable to perform dense Cholesky factorization.\n",
      "W0407 17:18:28.642670 145874 levenberg_marquardt_strategy.cc:116] Linear solver failure. Failed to compute a step: Eigen failure. Unable to perform dense Cholesky factorization.\n",
      "W0407 17:18:28.648991 145874 levenberg_marquardt_strategy.cc:116] Linear solver failure. Failed to compute a step: Eigen failure. Unable to perform dense Cholesky factorization.\n",
      "W0407 17:18:28.649753 145874 levenberg_marquardt_strategy.cc:116] Linear solver failure. Failed to compute a step: Eigen failure. Unable to perform dense Cholesky factorization.\n",
      "W0407 17:18:31.307690 145874 levenberg_marquardt_strategy.cc:116] Linear solver failure. Failed to compute a step: Eigen failure. Unable to perform dense Cholesky factorization.\n",
      "W0407 17:18:31.309435 145874 levenberg_marquardt_strategy.cc:116] Linear solver failure. Failed to compute a step: Eigen failure. Unable to perform dense Cholesky factorization.\n",
      "W0407 17:18:31.334743 145874 levenberg_marquardt_strategy.cc:116] Linear solver failure. Failed to compute a step: Eigen failure. Unable to perform dense Cholesky factorization.\n",
      "W0407 17:18:31.336505 145874 levenberg_marquardt_strategy.cc:116] Linear solver failure. Failed to compute a step: Eigen failure. Unable to perform dense Cholesky factorization.\n",
      "W0407 17:18:31.336887 145874 levenberg_marquardt_strategy.cc:116] Linear solver failure. Failed to compute a step: Eigen failure. Unable to perform dense Cholesky factorization.\n",
      "W0407 17:18:31.932008 145874 levenberg_marquardt_strategy.cc:116] Linear solver failure. Failed to compute a step: Eigen failure. Unable to perform dense Cholesky factorization.\n",
      "W0407 17:18:31.932946 145874 levenberg_marquardt_strategy.cc:116] Linear solver failure. Failed to compute a step: Eigen failure. Unable to perform dense Cholesky factorization.\n",
      "W0407 17:18:31.939813 145874 levenberg_marquardt_strategy.cc:116] Linear solver failure. Failed to compute a step: Eigen failure. Unable to perform dense Cholesky factorization.\n",
      "W0407 17:18:31.943677 145874 levenberg_marquardt_strategy.cc:116] Linear solver failure. Failed to compute a step: Eigen failure. Unable to perform dense Cholesky factorization.\n",
      "W0407 17:18:31.944613 145874 levenberg_marquardt_strategy.cc:116] Linear solver failure. Failed to compute a step: Eigen failure. Unable to perform dense Cholesky factorization.\n",
      "W0407 17:18:31.951514 145874 levenberg_marquardt_strategy.cc:116] Linear solver failure. Failed to compute a step: Eigen failure. Unable to perform dense Cholesky factorization.\n",
      "W0407 17:18:31.952447 145874 levenberg_marquardt_strategy.cc:116] Linear solver failure. Failed to compute a step: Eigen failure. Unable to perform dense Cholesky factorization.\n",
      "W0407 17:18:31.959187 145874 levenberg_marquardt_strategy.cc:116] Linear solver failure. Failed to compute a step: Eigen failure. Unable to perform dense Cholesky factorization.\n",
      "W0407 17:18:31.963004 145874 levenberg_marquardt_strategy.cc:116] Linear solver failure. Failed to compute a step: Eigen failure. Unable to perform dense Cholesky factorization.\n",
      "W0407 17:18:31.966881 145874 levenberg_marquardt_strategy.cc:116] Linear solver failure. Failed to compute a step: Eigen failure. Unable to perform dense Cholesky factorization.\n",
      "W0407 17:18:31.967756 145874 levenberg_marquardt_strategy.cc:116] Linear solver failure. Failed to compute a step: Eigen failure. Unable to perform dense Cholesky factorization.\n",
      "W0407 17:18:31.971748 145874 levenberg_marquardt_strategy.cc:116] Linear solver failure. Failed to compute a step: Eigen failure. Unable to perform dense Cholesky factorization.\n",
      "W0407 17:18:31.975507 145874 levenberg_marquardt_strategy.cc:116] Linear solver failure. Failed to compute a step: Eigen failure. Unable to perform dense Cholesky factorization.\n",
      "W0407 17:18:31.979373 145874 levenberg_marquardt_strategy.cc:116] Linear solver failure. Failed to compute a step: Eigen failure. Unable to perform dense Cholesky factorization.\n",
      "W0407 17:18:32.013936 145874 levenberg_marquardt_strategy.cc:116] Linear solver failure. Failed to compute a step: Eigen failure. Unable to perform dense Cholesky factorization.\n",
      "W0407 17:18:32.014880 145874 levenberg_marquardt_strategy.cc:116] Linear solver failure. Failed to compute a step: Eigen failure. Unable to perform dense Cholesky factorization.\n",
      "W0407 17:18:32.021654 145874 levenberg_marquardt_strategy.cc:116] Linear solver failure. Failed to compute a step: Eigen failure. Unable to perform dense Cholesky factorization.\n",
      "W0407 17:18:32.025517 145874 levenberg_marquardt_strategy.cc:116] Linear solver failure. Failed to compute a step: Eigen failure. Unable to perform dense Cholesky factorization.\n",
      "W0407 17:18:32.026397 145874 levenberg_marquardt_strategy.cc:116] Linear solver failure. Failed to compute a step: Eigen failure. Unable to perform dense Cholesky factorization.\n",
      "W0407 17:18:32.030269 145874 levenberg_marquardt_strategy.cc:116] Linear solver failure. Failed to compute a step: Eigen failure. Unable to perform dense Cholesky factorization.\n",
      "W0407 17:18:32.034166 145874 levenberg_marquardt_strategy.cc:116] Linear solver failure. Failed to compute a step: Eigen failure. Unable to perform dense Cholesky factorization.\n",
      "W0407 17:18:32.037954 145874 levenberg_marquardt_strategy.cc:116] Linear solver failure. Failed to compute a step: Eigen failure. Unable to perform dense Cholesky factorization.\n",
      "W0407 17:18:32.038863 145874 levenberg_marquardt_strategy.cc:116] Linear solver failure. Failed to compute a step: Eigen failure. Unable to perform dense Cholesky factorization.\n",
      "W0407 17:18:32.042771 145874 levenberg_marquardt_strategy.cc:116] Linear solver failure. Failed to compute a step: Eigen failure. Unable to perform dense Cholesky factorization.\n",
      "W0407 17:18:32.046604 145874 levenberg_marquardt_strategy.cc:116] Linear solver failure. Failed to compute a step: Eigen failure. Unable to perform dense Cholesky factorization.\n",
      "W0407 17:18:32.050559 145874 levenberg_marquardt_strategy.cc:116] Linear solver failure. Failed to compute a step: Eigen failure. Unable to perform dense Cholesky factorization.\n",
      "W0407 17:18:32.051493 145874 levenberg_marquardt_strategy.cc:116] Linear solver failure. Failed to compute a step: Eigen failure. Unable to perform dense Cholesky factorization.\n",
      "W0407 17:18:32.058274 145874 levenberg_marquardt_strategy.cc:116] Linear solver failure. Failed to compute a step: Eigen failure. Unable to perform dense Cholesky factorization.\n",
      "W0407 17:18:32.062119 145874 levenberg_marquardt_strategy.cc:116] Linear solver failure. Failed to compute a step: Eigen failure. Unable to perform dense Cholesky factorization.\n",
      "W0407 17:18:32.066097 145874 levenberg_marquardt_strategy.cc:116] Linear solver failure. Failed to compute a step: Eigen failure. Unable to perform dense Cholesky factorization.\n",
      "W0407 17:18:32.067047 145874 levenberg_marquardt_strategy.cc:116] Linear solver failure. Failed to compute a step: Eigen failure. Unable to perform dense Cholesky factorization.\n",
      "W0407 17:18:32.071051 145874 levenberg_marquardt_strategy.cc:116] Linear solver failure. Failed to compute a step: Eigen failure. Unable to perform dense Cholesky factorization.\n",
      "W0407 17:18:32.074926 145874 levenberg_marquardt_strategy.cc:116] Linear solver failure. Failed to compute a step: Eigen failure. Unable to perform dense Cholesky factorization.\n",
      "W0407 17:18:32.075783 145874 levenberg_marquardt_strategy.cc:116] Linear solver failure. Failed to compute a step: Eigen failure. Unable to perform dense Cholesky factorization.\n",
      "W0407 17:18:32.082705 145874 levenberg_marquardt_strategy.cc:116] Linear solver failure. Failed to compute a step: Eigen failure. Unable to perform dense Cholesky factorization.\n",
      "W0407 17:18:32.083572 145874 levenberg_marquardt_strategy.cc:116] Linear solver failure. Failed to compute a step: Eigen failure. Unable to perform dense Cholesky factorization.\n",
      "W0407 17:18:32.123311 145874 levenberg_marquardt_strategy.cc:116] Linear solver failure. Failed to compute a step: Eigen failure. Unable to perform dense Cholesky factorization.\n",
      "W0407 17:18:32.124223 145874 levenberg_marquardt_strategy.cc:116] Linear solver failure. Failed to compute a step: Eigen failure. Unable to perform dense Cholesky factorization.\n",
      "W0407 17:18:32.131029 145874 levenberg_marquardt_strategy.cc:116] Linear solver failure. Failed to compute a step: Eigen failure. Unable to perform dense Cholesky factorization.\n",
      "W0407 17:18:32.134968 145874 levenberg_marquardt_strategy.cc:116] Linear solver failure. Failed to compute a step: Eigen failure. Unable to perform dense Cholesky factorization.\n",
      "W0407 17:18:32.138895 145874 levenberg_marquardt_strategy.cc:116] Linear solver failure. Failed to compute a step: Eigen failure. Unable to perform dense Cholesky factorization.\n",
      "W0407 17:18:32.142676 145874 levenberg_marquardt_strategy.cc:116] Linear solver failure. Failed to compute a step: Eigen failure. Unable to perform dense Cholesky factorization.\n",
      "W0407 17:18:32.143595 145874 levenberg_marquardt_strategy.cc:116] Linear solver failure. Failed to compute a step: Eigen failure. Unable to perform dense Cholesky factorization.\n",
      "W0407 17:18:32.147630 145874 levenberg_marquardt_strategy.cc:116] Linear solver failure. Failed to compute a step: Eigen failure. Unable to perform dense Cholesky factorization.\n",
      "W0407 17:18:32.154706 145874 levenberg_marquardt_strategy.cc:116] Linear solver failure. Failed to compute a step: Eigen failure. Unable to perform dense Cholesky factorization.\n",
      "W0407 17:18:32.155570 145874 levenberg_marquardt_strategy.cc:116] Linear solver failure. Failed to compute a step: Eigen failure. Unable to perform dense Cholesky factorization.\n",
      "W0407 17:18:32.159413 145874 levenberg_marquardt_strategy.cc:116] Linear solver failure. Failed to compute a step: Eigen failure. Unable to perform dense Cholesky factorization.\n",
      "W0407 17:18:32.163164 145874 levenberg_marquardt_strategy.cc:116] Linear solver failure. Failed to compute a step: Eigen failure. Unable to perform dense Cholesky factorization.\n",
      "W0407 17:18:32.167003 145874 levenberg_marquardt_strategy.cc:116] Linear solver failure. Failed to compute a step: Eigen failure. Unable to perform dense Cholesky factorization.\n",
      "W0407 17:18:32.167927 145874 levenberg_marquardt_strategy.cc:116] Linear solver failure. Failed to compute a step: Eigen failure. Unable to perform dense Cholesky factorization.\n",
      "W0407 17:18:32.171744 145874 levenberg_marquardt_strategy.cc:116] Linear solver failure. Failed to compute a step: Eigen failure. Unable to perform dense Cholesky factorization.\n",
      "W0407 17:18:32.175570 145874 levenberg_marquardt_strategy.cc:116] Linear solver failure. Failed to compute a step: Eigen failure. Unable to perform dense Cholesky factorization.\n",
      "W0407 17:18:32.179376 145874 levenberg_marquardt_strategy.cc:116] Linear solver failure. Failed to compute a step: Eigen failure. Unable to perform dense Cholesky factorization.\n",
      "W0407 17:18:32.180245 145874 levenberg_marquardt_strategy.cc:116] Linear solver failure. Failed to compute a step: Eigen failure. Unable to perform dense Cholesky factorization.\n",
      "W0407 17:18:32.184224 145874 levenberg_marquardt_strategy.cc:116] Linear solver failure. Failed to compute a step: Eigen failure. Unable to perform dense Cholesky factorization.\n",
      "W0407 17:18:32.188196 145874 levenberg_marquardt_strategy.cc:116] Linear solver failure. Failed to compute a step: Eigen failure. Unable to perform dense Cholesky factorization.\n",
      "W0407 17:18:32.192081 145874 levenberg_marquardt_strategy.cc:116] Linear solver failure. Failed to compute a step: Eigen failure. Unable to perform dense Cholesky factorization.\n",
      "W0407 17:18:32.193015 145874 levenberg_marquardt_strategy.cc:116] Linear solver failure. Failed to compute a step: Eigen failure. Unable to perform dense Cholesky factorization.\n",
      "W0407 17:18:32.288554 145874 levenberg_marquardt_strategy.cc:116] Linear solver failure. Failed to compute a step: Eigen failure. Unable to perform dense Cholesky factorization.\n",
      "W0407 17:18:32.292330 145874 levenberg_marquardt_strategy.cc:116] Linear solver failure. Failed to compute a step: Eigen failure. Unable to perform dense Cholesky factorization.\n",
      "W0407 17:18:32.292984 145874 levenberg_marquardt_strategy.cc:116] Linear solver failure. Failed to compute a step: Eigen failure. Unable to perform dense Cholesky factorization.\n",
      "W0407 17:18:32.299420 145874 levenberg_marquardt_strategy.cc:116] Linear solver failure. Failed to compute a step: Eigen failure. Unable to perform dense Cholesky factorization.\n",
      "W0407 17:18:32.300261 145874 levenberg_marquardt_strategy.cc:116] Linear solver failure. Failed to compute a step: Eigen failure. Unable to perform dense Cholesky factorization.\n",
      "W0407 17:18:32.303529 145874 levenberg_marquardt_strategy.cc:116] Linear solver failure. Failed to compute a step: Eigen failure. Unable to perform dense Cholesky factorization.\n",
      "W0407 17:18:32.306855 145874 levenberg_marquardt_strategy.cc:116] Linear solver failure. Failed to compute a step: Eigen failure. Unable to perform dense Cholesky factorization.\n",
      "W0407 17:18:32.310143 145874 levenberg_marquardt_strategy.cc:116] Linear solver failure. Failed to compute a step: Eigen failure. Unable to perform dense Cholesky factorization.\n",
      "W0407 17:18:32.313419 145874 levenberg_marquardt_strategy.cc:116] Linear solver failure. Failed to compute a step: Eigen failure. Unable to perform dense Cholesky factorization.\n",
      "W0407 17:18:32.343014 145874 levenberg_marquardt_strategy.cc:116] Linear solver failure. Failed to compute a step: Eigen failure. Unable to perform dense Cholesky factorization.\n",
      "W0407 17:18:32.345562 145874 levenberg_marquardt_strategy.cc:116] Linear solver failure. Failed to compute a step: Eigen failure. Unable to perform dense Cholesky factorization.\n",
      "W0407 17:18:32.346072 145874 levenberg_marquardt_strategy.cc:116] Linear solver failure. Failed to compute a step: Eigen failure. Unable to perform dense Cholesky factorization.\n",
      "W0407 17:18:32.350967 145874 levenberg_marquardt_strategy.cc:116] Linear solver failure. Failed to compute a step: Eigen failure. Unable to perform dense Cholesky factorization.\n",
      "W0407 17:18:32.351475 145874 levenberg_marquardt_strategy.cc:116] Linear solver failure. Failed to compute a step: Eigen failure. Unable to perform dense Cholesky factorization.\n",
      "W0407 17:18:32.356088 145874 levenberg_marquardt_strategy.cc:116] Linear solver failure. Failed to compute a step: Eigen failure. Unable to perform dense Cholesky factorization.\n",
      "W0407 17:18:32.356582 145874 levenberg_marquardt_strategy.cc:116] Linear solver failure. Failed to compute a step: Eigen failure. Unable to perform dense Cholesky factorization.\n",
      "W0407 17:18:33.194664 145874 levenberg_marquardt_strategy.cc:116] Linear solver failure. Failed to compute a step: Eigen failure. Unable to perform dense Cholesky factorization.\n",
      "W0407 17:18:33.198662 145874 levenberg_marquardt_strategy.cc:116] Linear solver failure. Failed to compute a step: Eigen failure. Unable to perform dense Cholesky factorization.\n",
      "W0407 17:18:33.202592 145874 levenberg_marquardt_strategy.cc:116] Linear solver failure. Failed to compute a step: Eigen failure. Unable to perform dense Cholesky factorization.\n",
      "W0407 17:18:33.206542 145874 levenberg_marquardt_strategy.cc:116] Linear solver failure. Failed to compute a step: Eigen failure. Unable to perform dense Cholesky factorization.\n",
      "W0407 17:18:33.207458 145874 levenberg_marquardt_strategy.cc:116] Linear solver failure. Failed to compute a step: Eigen failure. Unable to perform dense Cholesky factorization.\n",
      "W0407 17:18:33.220332 145874 levenberg_marquardt_strategy.cc:116] Linear solver failure. Failed to compute a step: Eigen failure. Unable to perform dense Cholesky factorization.\n",
      "W0407 17:18:33.337014 145874 levenberg_marquardt_strategy.cc:116] Linear solver failure. Failed to compute a step: Eigen failure. Unable to perform dense Cholesky factorization.\n",
      "W0407 17:18:33.337884 145874 levenberg_marquardt_strategy.cc:116] Linear solver failure. Failed to compute a step: Eigen failure. Unable to perform dense Cholesky factorization.\n",
      "W0407 17:18:33.341954 145874 levenberg_marquardt_strategy.cc:116] Linear solver failure. Failed to compute a step: Eigen failure. Unable to perform dense Cholesky factorization.\n",
      "W0407 17:18:33.345887 145874 levenberg_marquardt_strategy.cc:116] Linear solver failure. Failed to compute a step: Eigen failure. Unable to perform dense Cholesky factorization.\n",
      "W0407 17:18:33.349882 145874 levenberg_marquardt_strategy.cc:116] Linear solver failure. Failed to compute a step: Eigen failure. Unable to perform dense Cholesky factorization.\n",
      "W0407 17:18:33.350836 145874 levenberg_marquardt_strategy.cc:116] Linear solver failure. Failed to compute a step: Eigen failure. Unable to perform dense Cholesky factorization.\n",
      "W0407 17:18:33.357887 145874 levenberg_marquardt_strategy.cc:116] Linear solver failure. Failed to compute a step: Eigen failure. Unable to perform dense Cholesky factorization.\n",
      "W0407 17:18:33.361898 145874 levenberg_marquardt_strategy.cc:116] Linear solver failure. Failed to compute a step: Eigen failure. Unable to perform dense Cholesky factorization.\n",
      "W0407 17:18:33.362823 145874 levenberg_marquardt_strategy.cc:116] Linear solver failure. Failed to compute a step: Eigen failure. Unable to perform dense Cholesky factorization.\n",
      "W0407 17:18:33.372855 145874 levenberg_marquardt_strategy.cc:116] Linear solver failure. Failed to compute a step: Eigen failure. Unable to perform dense Cholesky factorization.\n",
      "W0407 17:18:33.373764 145874 levenberg_marquardt_strategy.cc:116] Linear solver failure. Failed to compute a step: Eigen failure. Unable to perform dense Cholesky factorization.\n",
      "W0407 17:18:33.383919 145874 levenberg_marquardt_strategy.cc:116] Linear solver failure. Failed to compute a step: Eigen failure. Unable to perform dense Cholesky factorization.\n",
      "W0407 17:18:33.387960 145874 levenberg_marquardt_strategy.cc:116] Linear solver failure. Failed to compute a step: Eigen failure. Unable to perform dense Cholesky factorization.\n",
      "W0407 17:18:33.410066 145874 levenberg_marquardt_strategy.cc:116] Linear solver failure. Failed to compute a step: Eigen failure. Unable to perform dense Cholesky factorization.\n",
      "W0407 17:18:34.112459 145874 levenberg_marquardt_strategy.cc:116] Linear solver failure. Failed to compute a step: Eigen failure. Unable to perform dense Cholesky factorization.\n",
      "W0407 17:18:34.208792 145874 levenberg_marquardt_strategy.cc:116] Linear solver failure. Failed to compute a step: Eigen failure. Unable to perform dense Cholesky factorization.\n",
      "W0407 17:18:34.212931 145874 levenberg_marquardt_strategy.cc:116] Linear solver failure. Failed to compute a step: Eigen failure. Unable to perform dense Cholesky factorization.\n",
      "W0407 17:18:34.217094 145874 levenberg_marquardt_strategy.cc:116] Linear solver failure. Failed to compute a step: Eigen failure. Unable to perform dense Cholesky factorization.\n",
      "W0407 17:18:34.218151 145874 levenberg_marquardt_strategy.cc:116] Linear solver failure. Failed to compute a step: Eigen failure. Unable to perform dense Cholesky factorization.\n",
      "W0407 17:18:34.222451 145874 levenberg_marquardt_strategy.cc:116] Linear solver failure. Failed to compute a step: Eigen failure. Unable to perform dense Cholesky factorization.\n",
      "W0407 17:18:34.229699 145874 levenberg_marquardt_strategy.cc:116] Linear solver failure. Failed to compute a step: Eigen failure. Unable to perform dense Cholesky factorization.\n",
      "W0407 17:18:34.230584 145874 levenberg_marquardt_strategy.cc:116] Linear solver failure. Failed to compute a step: Eigen failure. Unable to perform dense Cholesky factorization.\n",
      "W0407 17:18:34.235029 145874 levenberg_marquardt_strategy.cc:116] Linear solver failure. Failed to compute a step: Eigen failure. Unable to perform dense Cholesky factorization.\n",
      "W0407 17:18:34.285254 145874 levenberg_marquardt_strategy.cc:116] Linear solver failure. Failed to compute a step: Eigen failure. Unable to perform dense Cholesky factorization.\n",
      "W0407 17:18:34.289461 145874 levenberg_marquardt_strategy.cc:116] Linear solver failure. Failed to compute a step: Eigen failure. Unable to perform dense Cholesky factorization.\n",
      "W0407 17:18:34.293471 145874 levenberg_marquardt_strategy.cc:116] Linear solver failure. Failed to compute a step: Eigen failure. Unable to perform dense Cholesky factorization.\n",
      "W0407 17:18:34.294342 145874 levenberg_marquardt_strategy.cc:116] Linear solver failure. Failed to compute a step: Eigen failure. Unable to perform dense Cholesky factorization.\n",
      "W0407 17:18:34.301769 145874 levenberg_marquardt_strategy.cc:116] Linear solver failure. Failed to compute a step: Eigen failure. Unable to perform dense Cholesky factorization.\n",
      "W0407 17:18:34.307262 145874 levenberg_marquardt_strategy.cc:116] Linear solver failure. Failed to compute a step: Eigen failure. Unable to perform dense Cholesky factorization.\n",
      "W0407 17:18:34.311403 145874 levenberg_marquardt_strategy.cc:116] Linear solver failure. Failed to compute a step: Eigen failure. Unable to perform dense Cholesky factorization.\n",
      "W0407 17:18:34.312371 145874 levenberg_marquardt_strategy.cc:116] Linear solver failure. Failed to compute a step: Eigen failure. Unable to perform dense Cholesky factorization.\n",
      "W0407 17:18:34.361096 145874 levenberg_marquardt_strategy.cc:116] Linear solver failure. Failed to compute a step: Eigen failure. Unable to perform dense Cholesky factorization.\n",
      "W0407 17:18:34.365104 145874 levenberg_marquardt_strategy.cc:116] Linear solver failure. Failed to compute a step: Eigen failure. Unable to perform dense Cholesky factorization.\n",
      "W0407 17:18:34.369369 145874 levenberg_marquardt_strategy.cc:116] Linear solver failure. Failed to compute a step: Eigen failure. Unable to perform dense Cholesky factorization.\n",
      "W0407 17:18:34.370285 145874 levenberg_marquardt_strategy.cc:116] Linear solver failure. Failed to compute a step: Eigen failure. Unable to perform dense Cholesky factorization.\n",
      "W0407 17:18:35.148813 145874 levenberg_marquardt_strategy.cc:116] Linear solver failure. Failed to compute a step: Eigen failure. Unable to perform dense Cholesky factorization.\n",
      "W0407 17:18:35.149739 145874 levenberg_marquardt_strategy.cc:116] Linear solver failure. Failed to compute a step: Eigen failure. Unable to perform dense Cholesky factorization.\n",
      "W0407 17:18:35.154139 145874 levenberg_marquardt_strategy.cc:116] Linear solver failure. Failed to compute a step: Eigen failure. Unable to perform dense Cholesky factorization.\n",
      "W0407 17:18:35.158356 145874 levenberg_marquardt_strategy.cc:116] Linear solver failure. Failed to compute a step: Eigen failure. Unable to perform dense Cholesky factorization.\n",
      "W0407 17:18:35.159332 145874 levenberg_marquardt_strategy.cc:116] Linear solver failure. Failed to compute a step: Eigen failure. Unable to perform dense Cholesky factorization.\n",
      "W0407 17:18:35.217650 145874 levenberg_marquardt_strategy.cc:116] Linear solver failure. Failed to compute a step: Eigen failure. Unable to perform dense Cholesky factorization.\n",
      "W0407 17:18:35.221691 145874 levenberg_marquardt_strategy.cc:116] Linear solver failure. Failed to compute a step: Eigen failure. Unable to perform dense Cholesky factorization.\n",
      "W0407 17:18:35.222545 145874 levenberg_marquardt_strategy.cc:116] Linear solver failure. Failed to compute a step: Eigen failure. Unable to perform dense Cholesky factorization.\n",
      "W0407 17:18:35.226439 145874 levenberg_marquardt_strategy.cc:116] Linear solver failure. Failed to compute a step: Eigen failure. Unable to perform dense Cholesky factorization.\n",
      "W0407 17:18:35.230456 145874 levenberg_marquardt_strategy.cc:116] Linear solver failure. Failed to compute a step: Eigen failure. Unable to perform dense Cholesky factorization.\n",
      "W0407 17:18:35.296016 145874 levenberg_marquardt_strategy.cc:116] Linear solver failure. Failed to compute a step: Eigen failure. Unable to perform dense Cholesky factorization.\n",
      "W0407 17:18:35.296890 145874 levenberg_marquardt_strategy.cc:116] Linear solver failure. Failed to compute a step: Eigen failure. Unable to perform dense Cholesky factorization.\n",
      "W0407 17:18:35.305143 145874 levenberg_marquardt_strategy.cc:116] Linear solver failure. Failed to compute a step: Eigen failure. Unable to perform dense Cholesky factorization.\n",
      "W0407 17:18:35.364845 145874 levenberg_marquardt_strategy.cc:116] Linear solver failure. Failed to compute a step: Eigen failure. Unable to perform dense Cholesky factorization.\n",
      "W0407 17:18:35.369086 145874 levenberg_marquardt_strategy.cc:116] Linear solver failure. Failed to compute a step: Eigen failure. Unable to perform dense Cholesky factorization.\n",
      "W0407 17:18:35.369987 145874 levenberg_marquardt_strategy.cc:116] Linear solver failure. Failed to compute a step: Eigen failure. Unable to perform dense Cholesky factorization.\n",
      "W0407 17:18:35.377270 145874 levenberg_marquardt_strategy.cc:116] Linear solver failure. Failed to compute a step: Eigen failure. Unable to perform dense Cholesky factorization.\n",
      "W0407 17:18:35.378139 145874 levenberg_marquardt_strategy.cc:116] Linear solver failure. Failed to compute a step: Eigen failure. Unable to perform dense Cholesky factorization.\n",
      "W0407 17:18:36.163666 145874 levenberg_marquardt_strategy.cc:116] Linear solver failure. Failed to compute a step: Eigen failure. Unable to perform dense Cholesky factorization.\n",
      "W0407 17:18:36.164474 145874 levenberg_marquardt_strategy.cc:116] Linear solver failure. Failed to compute a step: Eigen failure. Unable to perform dense Cholesky factorization.\n",
      "W0407 17:18:36.170956 145874 levenberg_marquardt_strategy.cc:116] Linear solver failure. Failed to compute a step: Eigen failure. Unable to perform dense Cholesky factorization.\n",
      "W0407 17:18:36.174494 145874 levenberg_marquardt_strategy.cc:116] Linear solver failure. Failed to compute a step: Eigen failure. Unable to perform dense Cholesky factorization.\n",
      "W0407 17:18:36.175271 145874 levenberg_marquardt_strategy.cc:116] Linear solver failure. Failed to compute a step: Eigen failure. Unable to perform dense Cholesky factorization.\n",
      "W0407 17:18:36.181558 145874 levenberg_marquardt_strategy.cc:116] Linear solver failure. Failed to compute a step: Eigen failure. Unable to perform dense Cholesky factorization.\n",
      "W0407 17:18:36.182382 145874 levenberg_marquardt_strategy.cc:116] Linear solver failure. Failed to compute a step: Eigen failure. Unable to perform dense Cholesky factorization.\n",
      "W0407 17:18:36.188752 145874 levenberg_marquardt_strategy.cc:116] Linear solver failure. Failed to compute a step: Eigen failure. Unable to perform dense Cholesky factorization.\n",
      "W0407 17:18:36.230670 145874 levenberg_marquardt_strategy.cc:116] Linear solver failure. Failed to compute a step: Eigen failure. Unable to perform dense Cholesky factorization.\n",
      "W0407 17:18:36.234377 145874 levenberg_marquardt_strategy.cc:116] Linear solver failure. Failed to compute a step: Eigen failure. Unable to perform dense Cholesky factorization.\n",
      "W0407 17:18:36.235138 145874 levenberg_marquardt_strategy.cc:116] Linear solver failure. Failed to compute a step: Eigen failure. Unable to perform dense Cholesky factorization.\n",
      "W0407 17:18:36.241438 145874 levenberg_marquardt_strategy.cc:116] Linear solver failure. Failed to compute a step: Eigen failure. Unable to perform dense Cholesky factorization.\n",
      "W0407 17:18:36.245079 145874 levenberg_marquardt_strategy.cc:116] Linear solver failure. Failed to compute a step: Eigen failure. Unable to perform dense Cholesky factorization.\n",
      "W0407 17:18:36.327248 145874 levenberg_marquardt_strategy.cc:116] Linear solver failure. Failed to compute a step: Eigen failure. Unable to perform dense Cholesky factorization.\n",
      "W0407 17:18:36.328145 145874 levenberg_marquardt_strategy.cc:116] Linear solver failure. Failed to compute a step: Eigen failure. Unable to perform dense Cholesky factorization.\n",
      "W0407 17:18:36.341922 145874 levenberg_marquardt_strategy.cc:116] Linear solver failure. Failed to compute a step: Eigen failure. Unable to perform dense Cholesky factorization.\n",
      "W0407 17:18:36.342803 145874 levenberg_marquardt_strategy.cc:116] Linear solver failure. Failed to compute a step: Eigen failure. Unable to perform dense Cholesky factorization.\n",
      "W0407 17:18:36.383754 145874 levenberg_marquardt_strategy.cc:116] Linear solver failure. Failed to compute a step: Eigen failure. Unable to perform dense Cholesky factorization.\n",
      "W0407 17:18:36.387809 145874 levenberg_marquardt_strategy.cc:116] Linear solver failure. Failed to compute a step: Eigen failure. Unable to perform dense Cholesky factorization.\n",
      "W0407 17:18:36.388728 145874 levenberg_marquardt_strategy.cc:116] Linear solver failure. Failed to compute a step: Eigen failure. Unable to perform dense Cholesky factorization.\n",
      "W0407 17:18:49.209416 145874 levenberg_marquardt_strategy.cc:116] Linear solver failure. Failed to compute a step: Eigen failure. Unable to perform dense Cholesky factorization.\n",
      "W0407 17:18:50.914513 145874 levenberg_marquardt_strategy.cc:116] Linear solver failure. Failed to compute a step: Eigen failure. Unable to perform dense Cholesky factorization.\n",
      "W0407 17:18:55.838836 145874 levenberg_marquardt_strategy.cc:116] Linear solver failure. Failed to compute a step: Eigen failure. Unable to perform dense Cholesky factorization.\n",
      "W0407 17:18:55.840796 145874 levenberg_marquardt_strategy.cc:116] Linear solver failure. Failed to compute a step: Eigen failure. Unable to perform dense Cholesky factorization.\n",
      "W0407 17:18:55.842630 145874 levenberg_marquardt_strategy.cc:116] Linear solver failure. Failed to compute a step: Eigen failure. Unable to perform dense Cholesky factorization.\n",
      "W0407 17:18:55.843030 145874 levenberg_marquardt_strategy.cc:116] Linear solver failure. Failed to compute a step: Eigen failure. Unable to perform dense Cholesky factorization.\n",
      "W0407 17:18:55.846172 145874 levenberg_marquardt_strategy.cc:116] Linear solver failure. Failed to compute a step: Eigen failure. Unable to perform dense Cholesky factorization.\n",
      "W0407 17:18:55.846561 145874 levenberg_marquardt_strategy.cc:116] Linear solver failure. Failed to compute a step: Eigen failure. Unable to perform dense Cholesky factorization.\n",
      "W0407 17:18:55.873039 145874 levenberg_marquardt_strategy.cc:116] Linear solver failure. Failed to compute a step: Eigen failure. Unable to perform dense Cholesky factorization.\n",
      "W0407 17:19:16.824102 145874 levenberg_marquardt_strategy.cc:116] Linear solver failure. Failed to compute a step: Eigen failure. Unable to perform dense Cholesky factorization.\n",
      "W0407 17:19:16.829264 145874 levenberg_marquardt_strategy.cc:116] Linear solver failure. Failed to compute a step: Eigen failure. Unable to perform dense Cholesky factorization.\n",
      "W0407 17:19:16.831812 145874 levenberg_marquardt_strategy.cc:116] Linear solver failure. Failed to compute a step: Eigen failure. Unable to perform dense Cholesky factorization.\n",
      "W0407 17:19:16.836439 145874 levenberg_marquardt_strategy.cc:116] Linear solver failure. Failed to compute a step: Eigen failure. Unable to perform dense Cholesky factorization.\n",
      "W0407 17:19:16.839004 145874 levenberg_marquardt_strategy.cc:116] Linear solver failure. Failed to compute a step: Eigen failure. Unable to perform dense Cholesky factorization.\n",
      "W0407 17:19:16.841571 145874 levenberg_marquardt_strategy.cc:116] Linear solver failure. Failed to compute a step: Eigen failure. Unable to perform dense Cholesky factorization.\n",
      "W0407 17:19:16.844081 145874 levenberg_marquardt_strategy.cc:116] Linear solver failure. Failed to compute a step: Eigen failure. Unable to perform dense Cholesky factorization.\n",
      "W0407 17:19:16.846661 145874 levenberg_marquardt_strategy.cc:116] Linear solver failure. Failed to compute a step: Eigen failure. Unable to perform dense Cholesky factorization.\n",
      "W0407 17:19:16.847306 145874 levenberg_marquardt_strategy.cc:116] Linear solver failure. Failed to compute a step: Eigen failure. Unable to perform dense Cholesky factorization.\n",
      "W0407 17:19:16.865836 145874 levenberg_marquardt_strategy.cc:116] Linear solver failure. Failed to compute a step: Eigen failure. Unable to perform dense Cholesky factorization.\n",
      "W0407 17:19:16.868486 145874 levenberg_marquardt_strategy.cc:116] Linear solver failure. Failed to compute a step: Eigen failure. Unable to perform dense Cholesky factorization.\n",
      "W0407 17:19:16.871134 145874 levenberg_marquardt_strategy.cc:116] Linear solver failure. Failed to compute a step: Eigen failure. Unable to perform dense Cholesky factorization.\n",
      "W0407 17:19:20.057248 145874 levenberg_marquardt_strategy.cc:116] Linear solver failure. Failed to compute a step: Eigen failure. Unable to perform dense Cholesky factorization.\n",
      "W0407 17:19:20.059711 145874 levenberg_marquardt_strategy.cc:116] Linear solver failure. Failed to compute a step: Eigen failure. Unable to perform dense Cholesky factorization.\n",
      "W0407 17:19:20.062175 145874 levenberg_marquardt_strategy.cc:116] Linear solver failure. Failed to compute a step: Eigen failure. Unable to perform dense Cholesky factorization.\n",
      "W0407 17:19:20.062752 145874 levenberg_marquardt_strategy.cc:116] Linear solver failure. Failed to compute a step: Eigen failure. Unable to perform dense Cholesky factorization.\n",
      "W0407 17:19:20.096550 145874 levenberg_marquardt_strategy.cc:116] Linear solver failure. Failed to compute a step: Eigen failure. Unable to perform dense Cholesky factorization.\n",
      "W0407 17:19:20.099017 145874 levenberg_marquardt_strategy.cc:116] Linear solver failure. Failed to compute a step: Eigen failure. Unable to perform dense Cholesky factorization.\n",
      "W0407 17:19:20.099586 145874 levenberg_marquardt_strategy.cc:116] Linear solver failure. Failed to compute a step: Eigen failure. Unable to perform dense Cholesky factorization.\n",
      "W0407 17:19:20.103950 145874 levenberg_marquardt_strategy.cc:116] Linear solver failure. Failed to compute a step: Eigen failure. Unable to perform dense Cholesky factorization.\n",
      "W0407 17:19:20.104496 145874 levenberg_marquardt_strategy.cc:116] Linear solver failure. Failed to compute a step: Eigen failure. Unable to perform dense Cholesky factorization.\n",
      "W0407 17:19:20.108844 145874 levenberg_marquardt_strategy.cc:116] Linear solver failure. Failed to compute a step: Eigen failure. Unable to perform dense Cholesky factorization.\n",
      "W0407 17:19:20.111332 145874 levenberg_marquardt_strategy.cc:116] Linear solver failure. Failed to compute a step: Eigen failure. Unable to perform dense Cholesky factorization.\n",
      "W0407 17:19:20.111888 145874 levenberg_marquardt_strategy.cc:116] Linear solver failure. Failed to compute a step: Eigen failure. Unable to perform dense Cholesky factorization.\n",
      "W0407 17:19:20.114356 145874 levenberg_marquardt_strategy.cc:116] Linear solver failure. Failed to compute a step: Eigen failure. Unable to perform dense Cholesky factorization.\n",
      "W0407 17:19:20.116866 145874 levenberg_marquardt_strategy.cc:116] Linear solver failure. Failed to compute a step: Eigen failure. Unable to perform dense Cholesky factorization.\n",
      "W0407 17:19:20.119419 145874 levenberg_marquardt_strategy.cc:116] Linear solver failure. Failed to compute a step: Eigen failure. Unable to perform dense Cholesky factorization.\n",
      "W0407 17:19:20.120000 145874 levenberg_marquardt_strategy.cc:116] Linear solver failure. Failed to compute a step: Eigen failure. Unable to perform dense Cholesky factorization.\n",
      "W0407 17:19:20.124404 145874 levenberg_marquardt_strategy.cc:116] Linear solver failure. Failed to compute a step: Eigen failure. Unable to perform dense Cholesky factorization.\n",
      "W0407 17:19:20.124969 145874 levenberg_marquardt_strategy.cc:116] Linear solver failure. Failed to compute a step: Eigen failure. Unable to perform dense Cholesky factorization.\n",
      "W0407 17:19:20.127420 145874 levenberg_marquardt_strategy.cc:116] Linear solver failure. Failed to compute a step: Eigen failure. Unable to perform dense Cholesky factorization.\n",
      "W0407 17:19:20.129849 145874 levenberg_marquardt_strategy.cc:116] Linear solver failure. Failed to compute a step: Eigen failure. Unable to perform dense Cholesky factorization.\n",
      "W0407 17:19:20.130403 145874 levenberg_marquardt_strategy.cc:116] Linear solver failure. Failed to compute a step: Eigen failure. Unable to perform dense Cholesky factorization.\n",
      "W0407 17:19:20.134737 145874 levenberg_marquardt_strategy.cc:116] Linear solver failure. Failed to compute a step: Eigen failure. Unable to perform dense Cholesky factorization.\n",
      "W0407 17:19:20.135298 145874 levenberg_marquardt_strategy.cc:116] Linear solver failure. Failed to compute a step: Eigen failure. Unable to perform dense Cholesky factorization.\n",
      "W0407 17:19:20.163340 145874 levenberg_marquardt_strategy.cc:116] Linear solver failure. Failed to compute a step: Eigen failure. Unable to perform dense Cholesky factorization.\n",
      "W0407 17:19:20.165822 145874 levenberg_marquardt_strategy.cc:116] Linear solver failure. Failed to compute a step: Eigen failure. Unable to perform dense Cholesky factorization.\n",
      "W0407 17:19:20.166388 145874 levenberg_marquardt_strategy.cc:116] Linear solver failure. Failed to compute a step: Eigen failure. Unable to perform dense Cholesky factorization.\n",
      "W0407 17:19:20.172777 145874 levenberg_marquardt_strategy.cc:116] Linear solver failure. Failed to compute a step: Eigen failure. Unable to perform dense Cholesky factorization.\n",
      "W0407 17:19:20.173350 145874 levenberg_marquardt_strategy.cc:116] Linear solver failure. Failed to compute a step: Eigen failure. Unable to perform dense Cholesky factorization.\n",
      "W0407 17:19:20.173921 145874 levenberg_marquardt_strategy.cc:116] Linear solver failure. Failed to compute a step: Eigen failure. Unable to perform dense Cholesky factorization.\n",
      "W0407 17:19:20.180153 145874 levenberg_marquardt_strategy.cc:116] Linear solver failure. Failed to compute a step: Eigen failure. Unable to perform dense Cholesky factorization.\n",
      "W0407 17:19:20.182613 145874 levenberg_marquardt_strategy.cc:116] Linear solver failure. Failed to compute a step: Eigen failure. Unable to perform dense Cholesky factorization.\n",
      "W0407 17:19:20.183163 145874 levenberg_marquardt_strategy.cc:116] Linear solver failure. Failed to compute a step: Eigen failure. Unable to perform dense Cholesky factorization.\n",
      "W0407 17:19:20.185681 145874 levenberg_marquardt_strategy.cc:116] Linear solver failure. Failed to compute a step: Eigen failure. Unable to perform dense Cholesky factorization.\n",
      "W0407 17:19:20.188154 145874 levenberg_marquardt_strategy.cc:116] Linear solver failure. Failed to compute a step: Eigen failure. Unable to perform dense Cholesky factorization.\n",
      "W0407 17:19:20.188711 145874 levenberg_marquardt_strategy.cc:116] Linear solver failure. Failed to compute a step: Eigen failure. Unable to perform dense Cholesky factorization.\n",
      "W0407 17:19:20.191162 145874 levenberg_marquardt_strategy.cc:116] Linear solver failure. Failed to compute a step: Eigen failure. Unable to perform dense Cholesky factorization.\n",
      "W0407 17:19:20.193625 145874 levenberg_marquardt_strategy.cc:116] Linear solver failure. Failed to compute a step: Eigen failure. Unable to perform dense Cholesky factorization.\n",
      "W0407 17:19:20.196141 145874 levenberg_marquardt_strategy.cc:116] Linear solver failure. Failed to compute a step: Eigen failure. Unable to perform dense Cholesky factorization.\n",
      "W0407 17:19:20.196696 145874 levenberg_marquardt_strategy.cc:116] Linear solver failure. Failed to compute a step: Eigen failure. Unable to perform dense Cholesky factorization.\n",
      "W0407 17:19:20.201170 145874 levenberg_marquardt_strategy.cc:116] Linear solver failure. Failed to compute a step: Eigen failure. Unable to perform dense Cholesky factorization.\n",
      "W0407 17:19:20.203693 145874 levenberg_marquardt_strategy.cc:116] Linear solver failure. Failed to compute a step: Eigen failure. Unable to perform dense Cholesky factorization.\n",
      "W0407 17:19:20.204257 145874 levenberg_marquardt_strategy.cc:116] Linear solver failure. Failed to compute a step: Eigen failure. Unable to perform dense Cholesky factorization.\n",
      "W0407 17:19:20.208645 145874 levenberg_marquardt_strategy.cc:116] Linear solver failure. Failed to compute a step: Eigen failure. Unable to perform dense Cholesky factorization.\n",
      "W0407 17:19:20.209190 145874 levenberg_marquardt_strategy.cc:116] Linear solver failure. Failed to compute a step: Eigen failure. Unable to perform dense Cholesky factorization.\n",
      "W0407 17:19:20.244159 145874 levenberg_marquardt_strategy.cc:116] Linear solver failure. Failed to compute a step: Eigen failure. Unable to perform dense Cholesky factorization.\n",
      "W0407 17:19:20.244743 145874 levenberg_marquardt_strategy.cc:116] Linear solver failure. Failed to compute a step: Eigen failure. Unable to perform dense Cholesky factorization.\n",
      "W0407 17:19:20.249136 145874 levenberg_marquardt_strategy.cc:116] Linear solver failure. Failed to compute a step: Eigen failure. Unable to perform dense Cholesky factorization.\n",
      "W0407 17:19:20.249698 145874 levenberg_marquardt_strategy.cc:116] Linear solver failure. Failed to compute a step: Eigen failure. Unable to perform dense Cholesky factorization.\n",
      "W0407 17:19:20.254158 145874 levenberg_marquardt_strategy.cc:116] Linear solver failure. Failed to compute a step: Eigen failure. Unable to perform dense Cholesky factorization.\n",
      "W0407 17:19:20.254722 145874 levenberg_marquardt_strategy.cc:116] Linear solver failure. Failed to compute a step: Eigen failure. Unable to perform dense Cholesky factorization.\n",
      "W0407 17:19:20.259181 145874 levenberg_marquardt_strategy.cc:116] Linear solver failure. Failed to compute a step: Eigen failure. Unable to perform dense Cholesky factorization.\n",
      "W0407 17:19:20.259743 145874 levenberg_marquardt_strategy.cc:116] Linear solver failure. Failed to compute a step: Eigen failure. Unable to perform dense Cholesky factorization.\n",
      "W0407 17:19:20.264178 145874 levenberg_marquardt_strategy.cc:116] Linear solver failure. Failed to compute a step: Eigen failure. Unable to perform dense Cholesky factorization.\n",
      "W0407 17:19:20.264763 145874 levenberg_marquardt_strategy.cc:116] Linear solver failure. Failed to compute a step: Eigen failure. Unable to perform dense Cholesky factorization.\n",
      "W0407 17:19:20.269208 145874 levenberg_marquardt_strategy.cc:116] Linear solver failure. Failed to compute a step: Eigen failure. Unable to perform dense Cholesky factorization.\n",
      "W0407 17:19:20.269776 145874 levenberg_marquardt_strategy.cc:116] Linear solver failure. Failed to compute a step: Eigen failure. Unable to perform dense Cholesky factorization.\n",
      "W0407 17:19:20.272562 145874 levenberg_marquardt_strategy.cc:116] Linear solver failure. Failed to compute a step: Eigen failure. Unable to perform dense Cholesky factorization.\n",
      "W0407 17:19:20.275120 145874 levenberg_marquardt_strategy.cc:116] Linear solver failure. Failed to compute a step: Eigen failure. Unable to perform dense Cholesky factorization.\n",
      "W0407 17:19:20.275698 145874 levenberg_marquardt_strategy.cc:116] Linear solver failure. Failed to compute a step: Eigen failure. Unable to perform dense Cholesky factorization.\n",
      "W0407 17:19:20.280210 145874 levenberg_marquardt_strategy.cc:116] Linear solver failure. Failed to compute a step: Eigen failure. Unable to perform dense Cholesky factorization.\n",
      "W0407 17:19:20.280802 145874 levenberg_marquardt_strategy.cc:116] Linear solver failure. Failed to compute a step: Eigen failure. Unable to perform dense Cholesky factorization.\n",
      "W0407 17:19:20.283514 145874 levenberg_marquardt_strategy.cc:116] Linear solver failure. Failed to compute a step: Eigen failure. Unable to perform dense Cholesky factorization.\n",
      "W0407 17:19:20.286199 145874 levenberg_marquardt_strategy.cc:116] Linear solver failure. Failed to compute a step: Eigen failure. Unable to perform dense Cholesky factorization.\n",
      "W0407 17:19:21.299265 145874 levenberg_marquardt_strategy.cc:116] Linear solver failure. Failed to compute a step: Eigen failure. Unable to perform dense Cholesky factorization.\n",
      "W0407 17:19:21.299815 145874 levenberg_marquardt_strategy.cc:116] Linear solver failure. Failed to compute a step: Eigen failure. Unable to perform dense Cholesky factorization.\n",
      "W0407 17:19:21.304198 145874 levenberg_marquardt_strategy.cc:116] Linear solver failure. Failed to compute a step: Eigen failure. Unable to perform dense Cholesky factorization.\n",
      "W0407 17:19:21.306547 145874 levenberg_marquardt_strategy.cc:116] Linear solver failure. Failed to compute a step: Eigen failure. Unable to perform dense Cholesky factorization.\n",
      "W0407 17:19:21.307066 145874 levenberg_marquardt_strategy.cc:116] Linear solver failure. Failed to compute a step: Eigen failure. Unable to perform dense Cholesky factorization.\n",
      "W0407 17:19:21.309379 145874 levenberg_marquardt_strategy.cc:116] Linear solver failure. Failed to compute a step: Eigen failure. Unable to perform dense Cholesky factorization.\n",
      "W0407 17:19:21.311702 145874 levenberg_marquardt_strategy.cc:116] Linear solver failure. Failed to compute a step: Eigen failure. Unable to perform dense Cholesky factorization.\n",
      "W0407 17:19:21.312207 145874 levenberg_marquardt_strategy.cc:116] Linear solver failure. Failed to compute a step: Eigen failure. Unable to perform dense Cholesky factorization.\n",
      "W0407 17:19:21.318209 145874 levenberg_marquardt_strategy.cc:116] Linear solver failure. Failed to compute a step: Eigen failure. Unable to perform dense Cholesky factorization.\n",
      "W0407 17:19:21.318751 145874 levenberg_marquardt_strategy.cc:116] Linear solver failure. Failed to compute a step: Eigen failure. Unable to perform dense Cholesky factorization.\n",
      "W0407 17:19:21.319329 145874 levenberg_marquardt_strategy.cc:116] Linear solver failure. Failed to compute a step: Eigen failure. Unable to perform dense Cholesky factorization.\n",
      "W0407 17:19:21.372244 145874 levenberg_marquardt_strategy.cc:116] Linear solver failure. Failed to compute a step: Eigen failure. Unable to perform dense Cholesky factorization.\n",
      "W0407 17:19:21.372789 145874 levenberg_marquardt_strategy.cc:116] Linear solver failure. Failed to compute a step: Eigen failure. Unable to perform dense Cholesky factorization.\n",
      "W0407 17:19:21.376997 145874 levenberg_marquardt_strategy.cc:116] Linear solver failure. Failed to compute a step: Eigen failure. Unable to perform dense Cholesky factorization.\n",
      "W0407 17:19:21.379386 145874 levenberg_marquardt_strategy.cc:116] Linear solver failure. Failed to compute a step: Eigen failure. Unable to perform dense Cholesky factorization.\n",
      "W0407 17:19:21.379907 145874 levenberg_marquardt_strategy.cc:116] Linear solver failure. Failed to compute a step: Eigen failure. Unable to perform dense Cholesky factorization.\n",
      "[2023/04/07 17:19:21 hloc INFO] Reconstructed 5 model(s).\n",
      "[2023/04/07 17:19:21 hloc INFO] Largest model is #1 with 32 images.\n",
      "[2023/04/07 17:19:21 hloc INFO] Reconstruction statistics:\n",
      "Reconstruction:\n",
      "\tnum_reg_images = 32\n",
      "\tnum_cameras = 1\n",
      "\tnum_points3D = 621\n",
      "\tnum_observations = 1268\n",
      "\tmean_track_length = 2.04187\n",
      "\tmean_observations_per_image = 39.625\n",
      "\tmean_reprojection_error = 1.0105\n",
      "\tnum_input_images = 54\n"
     ]
    }
   ],
   "source": [
    "references = [p.relative_to(images).as_posix() for p in images.iterdir()]\n",
    "print(len(references), \"mapping images\")\n",
    "extract_features.main(feature_conf, images, image_list=references, feature_path=features)\n",
    "pairs_from_exhaustive.main(sfm_pairs, image_list=references)\n",
    "match_features.main(matcher_conf, sfm_pairs, features=features, matches=matches)\n",
    "\n",
    "# mapper_options = pycolmap.IncrementalMapperOptions()\n",
    "# mapper_options.ba_refine_focal_length = False\n",
    "# mapper_options.ba_refine_extra_params = False\n",
    "# mapper_options.ba_refine_principal_point = False\n",
    "# mapper_options = mapper_options.todict()\n",
    "\n",
    "# image_options = pycolmap.ImageReaderOptions()\n",
    "# image_options.camera_model = 'OPENCV' # fx, fy, cx, cy, k1, k2, p1, p2\n",
    "# image_options.camera_params = '1578.536018839302, 1581.913683228172, 1988.052517109374, 1487.990041106547, \\\n",
    "#                                 -0.00007241601067241044, -0.0004441156330189372, 0.01447415647374481, -0.01074775857708951'\n",
    "# image_options.todict()\n",
    "\n",
    "model = reconstruction.main(sfm_dir, images, sfm_pairs, features, matches, camera_mode=pycolmap.CameraMode.SINGLE, image_list=references)"
   ]
  },
  {
   "cell_type": "code",
   "execution_count": 42,
   "id": "48f46b55",
   "metadata": {},
   "outputs": [],
   "source": [
    "images = Path('datasets/box_recon/20230329_105301-wide-30fps')\n",
    "outputs = Path('outputs/box_recon/20230329_105301-wide-30fps')\n",
    "\n",
    "sfm_pairs = outputs / 'pairs-sfm.txt'\n",
    "sfm_dir = outputs / 'sfm'\n",
    "loc_pairs = outputs / 'pairs-loc.txt'\n",
    "\n",
    "retrieval_conf = extract_features.confs['netvlad']\n",
    "feature_conf = extract_features.confs['superpoint_inloc']\n",
    "matcher_conf = match_features.confs['superglue']"
   ]
  },
  {
   "cell_type": "code",
   "execution_count": 43,
   "id": "946a87dd",
   "metadata": {},
   "outputs": [
    {
     "name": "stderr",
     "output_type": "stream",
     "text": [
      "[2023/03/31 10:37:52 hloc INFO] Extracting local features with configuration:\n",
      "{'model': {'name': 'netvlad'},\n",
      " 'output': 'global-feats-netvlad',\n",
      " 'preprocessing': {'resize_max': 1024}}\n",
      "[2023/03/31 10:37:58 hloc INFO] Finished exporting features.\n",
      "[2023/03/31 10:37:58 hloc INFO] Extracting local features with configuration:\n",
      "{'model': {'max_keypoints': 4096, 'name': 'superpoint', 'nms_radius': 4},\n",
      " 'output': 'feats-superpoint-n4096-r1600',\n",
      " 'preprocessing': {'grayscale': True, 'resize_max': 1600}}\n",
      "[2023/03/31 10:37:58 hloc INFO] Found 51 images in root datasets/box_recon/20230329_105301-wide-30fps.\n"
     ]
    },
    {
     "name": "stdout",
     "output_type": "stream",
     "text": [
      "Loaded SuperPoint model\n"
     ]
    },
    {
     "name": "stderr",
     "output_type": "stream",
     "text": [
      "[2023/03/31 10:38:00 hloc INFO] Finished exporting features.\n",
      "[2023/03/31 10:38:00 hloc INFO] Extracting image pairs from a retrieval database.\n",
      "[2023/03/31 10:38:00 hloc INFO] Found 765 pairs.\n",
      "[2023/03/31 10:38:00 hloc INFO] Matching local features with configuration:\n",
      "{'model': {'name': 'superglue',\n",
      "           'sinkhorn_iterations': 50,\n",
      "           'weights': 'outdoor'},\n",
      " 'output': 'matches-superglue'}\n"
     ]
    },
    {
     "name": "stdout",
     "output_type": "stream",
     "text": [
      "Loaded SuperGlue model (\"outdoor\" weights)\n"
     ]
    },
    {
     "name": "stderr",
     "output_type": "stream",
     "text": [
      "[2023/03/31 10:38:26 hloc INFO] Finished exporting matches.\n",
      "[2023/03/31 10:38:26 hloc INFO] Creating an empty database...\n",
      "[2023/03/31 10:38:26 hloc INFO] Importing images into the database...\n",
      "[2023/03/31 10:38:27 hloc INFO] Importing features into the database...\n"
     ]
    },
    {
     "data": {
      "application/vnd.jupyter.widget-view+json": {
       "model_id": "0807c97d28c341c6900bff242402898a",
       "version_major": 2,
       "version_minor": 0
      },
      "text/plain": [
       "  0%|          | 0/51 [00:00<?, ?it/s]"
      ]
     },
     "metadata": {},
     "output_type": "display_data"
    },
    {
     "name": "stderr",
     "output_type": "stream",
     "text": [
      "[2023/03/31 10:38:27 hloc INFO] Importing matches into the database...\n"
     ]
    },
    {
     "data": {
      "application/vnd.jupyter.widget-view+json": {
       "model_id": "a8e6b61078a441ae8b38cf06951782c5",
       "version_major": 2,
       "version_minor": 0
      },
      "text/plain": [
       "  0%|          | 0/765 [00:00<?, ?it/s]"
      ]
     },
     "metadata": {},
     "output_type": "display_data"
    },
    {
     "name": "stderr",
     "output_type": "stream",
     "text": [
      "[2023/03/31 10:38:27 hloc INFO] Performing geometric verification of the matches...\n",
      "[2023/03/31 10:38:28 hloc INFO] Running 3D reconstruction...\n",
      "[2023/03/31 10:39:02 hloc INFO] Reconstructed 1 model(s).\n",
      "[2023/03/31 10:39:02 hloc INFO] Largest model is #0 with 51 images.\n",
      "[2023/03/31 10:39:02 hloc INFO] Reconstruction statistics:\n",
      "Reconstruction:\n",
      "\tnum_reg_images = 51\n",
      "\tnum_cameras = 1\n",
      "\tnum_points3D = 10144\n",
      "\tnum_observations = 38976\n",
      "\tmean_track_length = 3.84227\n",
      "\tmean_observations_per_image = 764.235\n",
      "\tmean_reprojection_error = 1.41348\n",
      "\tnum_input_images = 51\n"
     ]
    }
   ],
   "source": [
    "references = [p.relative_to(images).as_posix() for p in (images / 'mapping/').iterdir()]\n",
    "global_descriptors = extract_features.main(retrieval_conf, images, outputs, image_list=references)\n",
    "feature_path = extract_features.main(feature_conf, images, outputs)\n",
    "pairs_from_retrieval.main(global_descriptors, sfm_pairs, num_matched=15)\n",
    "match_path = match_features.main(matcher_conf, sfm_pairs, feature_conf['output'], outputs)\n",
    "\n",
    "mapper_options = pycolmap.IncrementalMapperOptions()\n",
    "mapper_options.ba_refine_focal_length = False\n",
    "mapper_options.ba_refine_extra_params = False\n",
    "mapper_options.ba_refine_principal_point = False\n",
    "mapper_options = mapper_options.todict()\n",
    "\n",
    "image_options = pycolmap.ImageReaderOptions()\n",
    "image_options.camera_model = 'OPENCV' # fx, fy, cx, cy, k1, k2, p1, p2\n",
    "image_options.camera_params = '906.0804341080022, 911.9912443257355, 730.0029979627827, 700.6146374410489, 0.00003584909377177392, -0.00002014337127059466, -0.0099156764662087, 0.06144578903316186'\n",
    "image_options.todict()\n",
    "\n",
    "model = reconstruction.main(sfm_dir, images, sfm_pairs, feature_path, match_path, camera_mode=pycolmap.CameraMode.SINGLE, image_list=references, image_options=image_options, mapper_options=mapper_options)"
   ]
  }
 ],
 "metadata": {
  "kernelspec": {
   "display_name": "Python 3.8.13 ('hloc')",
   "language": "python",
   "name": "python3"
  },
  "language_info": {
   "codemirror_mode": {
    "name": "ipython",
    "version": 3
   },
   "file_extension": ".py",
   "mimetype": "text/x-python",
   "name": "python",
   "nbconvert_exporter": "python",
   "pygments_lexer": "ipython3",
   "version": "3.8.13"
  },
  "vscode": {
   "interpreter": {
    "hash": "836b1782c5ea3c145c7677ba3357f178691cc96488058bd1ad4dbba3ae7fa3c6"
   }
  }
 },
 "nbformat": 4,
 "nbformat_minor": 5
}
