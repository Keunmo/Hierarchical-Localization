{
 "cells": [
  {
   "cell_type": "code",
   "execution_count": null,
   "metadata": {},
   "outputs": [],
   "source": [
    "%matplotlib inline\n",
    "import cv2 as cv\n",
    "import numpy as np\n",
    "from matplotlib import pyplot as plt\n",
    "import matplotlib\n",
    "matplotlib.use('TkAgg')\n",
    "import os\n",
    "from scipy.spatial.transform import Rotation as R\n",
    "import random\n",
    "import os.path as osp"
   ]
  },
  {
   "cell_type": "code",
   "execution_count": null,
   "metadata": {},
   "outputs": [],
   "source": [
    "def rodrigues(r: np.ndarray) -> np.ndarray:\n",
    "    if r.size == 3: return R.from_rotvec(r.squeeze()).as_matrix()\n",
    "    else: return R.from_matrix(r).as_rotvec().reshape((3, 1))"
   ]
  },
  {
   "cell_type": "code",
   "execution_count": null,
   "metadata": {},
   "outputs": [],
   "source": [
    "def getRot(transform: np.ndarray) -> np.ndarray:\n",
    "    if transform.size == 6:\n",
    "        transform = transform.reshape((6, 1))\n",
    "        return rodrigues(transform[:3])\n",
    "    elif transform.shape == (3, 4) or transform.shape == (4, 4):\n",
    "        return transform[:3, :3]\n",
    "    else:\n",
    "        return None"
   ]
  },
  {
   "cell_type": "code",
   "execution_count": null,
   "metadata": {},
   "outputs": [],
   "source": [
    "def getTr(transform: np.ndarray) -> np.ndarray:\n",
    "    if transform.size == 6:\n",
    "        transform = transform.reshape((6, 1))\n",
    "        return transform[3:6].reshape((3, 1))\n",
    "    elif transform.shape == (3, 4) or transform.shape == (4, 4):\n",
    "        return transform[:3, :3].reshape((3, 1))\n",
    "    else:\n",
    "        return None"
   ]
  },
  {
   "cell_type": "code",
   "execution_count": null,
   "metadata": {},
   "outputs": [],
   "source": [
    "def inverseTransform(transform: np.ndarray) -> np.ndarray:\n",
    "    R, tr = getRot(transform), getTr(transform)\n",
    "    R_inv = R.transpose()\n",
    "    tr_inv = -R_inv.dot(tr)\n",
    "    if transform.size == 6:\n",
    "        r_inv = rodrigues(R_inv)\n",
    "        return np.concatenate((r_inv, tr_inv), axis=0) # (6, 1) vector\n",
    "    else:\n",
    "        return np.concatenate((R_inv, tr_inv), axis=1) # (3, 4) matrix"
   ]
  },
  {
   "cell_type": "code",
   "execution_count": null,
   "metadata": {},
   "outputs": [],
   "source": [
    "def toPoseMatrix(transform: np.ndarray) -> np.ndarray:\n",
    "    if transform.size == 6:\n",
    "        return np.concatenate(\n",
    "            (getRot(transform), getTr(transform)), 1)\n",
    "    else:\n",
    "        return transform[:3, :4]"
   ]
  },
  {
   "cell_type": "code",
   "execution_count": null,
   "metadata": {},
   "outputs": [],
   "source": [
    "def mergedTransform(t2: np.ndarray, t1: np.ndarray) -> np.ndarray: # T2 * T1\n",
    "    R1, tr1 = getRot(t1), getTr(t1)\n",
    "    R2, tr2 = getRot(t2), getTr(t2)\n",
    "    R = np.matmul(R2, R1)\n",
    "    tr = R2.dot(tr1) + tr2\n",
    "    if t1.size == 6:\n",
    "        rot = rodrigues(R)\n",
    "        return np.concatenate((rot, tr), axis=0)\n",
    "    else:\n",
    "        return np.concatenate((R, tr), axis=1)"
   ]
  },
  {
   "cell_type": "code",
   "execution_count": null,
   "metadata": {},
   "outputs": [],
   "source": [
    "def applyTransform(transform: np.ndarray, P: 'np.ndarray') \\\n",
    "        -> 'np.ndarray':\n",
    "    R, tr = getRot(transform), getTr(transform)\n",
    "    return R.dot(P) + tr"
   ]
  },
  {
   "cell_type": "code",
   "execution_count": null,
   "metadata": {},
   "outputs": [],
   "source": [
    "def skew(tr: np.ndarray) -> np.ndarray:\n",
    "    skew_tr = np.array([\n",
    "                [0.     ,-tr[2,0],   tr[1,0]],\n",
    "                [tr[2,0],      0.,  -tr[0,0]],\n",
    "                [-tr[1,0], tr[0,0],        0.]])\n",
    "    return skew_tr"
   ]
  },
  {
   "cell_type": "code",
   "execution_count": null,
   "metadata": {},
   "outputs": [],
   "source": [
    "def loadPoseTxtFile(path: str, delimiter = ' '):\n",
    "    if not osp.exists(path):\n",
    "        return None\n",
    "    data = np.loadtxt(path, delimiter=delimiter)\n",
    "    fidxs = data[:, 0].astype(int).flatten()\n",
    "    poses = data[:, 1:7].T.reshape((6, -1))\n",
    "    timestamps = data[:, 7].astype(int).flatten()\n",
    "    nposes = poses.shape[1]\n",
    "    return (fidxs, poses, timestamps)"
   ]
  },
  {
   "cell_type": "code",
   "execution_count": null,
   "metadata": {},
   "outputs": [],
   "source": [
    "def FundamentalMatrix(c2w1, c2w2, K):\n",
    "    w2c1 = inverseTransform(c2w1)\n",
    "    relpose = mergedTransform(w2c1,c2w2)\n",
    "    relposePrj = inverseTransform(relpose)\n",
    "    tr = getTr(relposePrj)\n",
    "    rot = getRot(relposePrj)\n",
    "    tr_skew = skew(tr)\n",
    "    E = tr_skew@ rot\n",
    "    F = np.linalg.inv(K.T)@E@np.linalg.inv(K)\n",
    "    return F"
   ]
  },
  {
   "cell_type": "code",
   "execution_count": null,
   "metadata": {},
   "outputs": [],
   "source": [
    "def drawlines(img1,img2,lines,pts1):\n",
    "    ''' img1 - image on which we draw the epilines for the points in img2\n",
    "        lines - corresponding epilines '''\n",
    "    _,w = img1.shape[:2]\n",
    "    # for pt1 in pts1:\n",
    "    for r,pt1 in zip(lines,pts1):\n",
    "        color = tuple(np.random.randint(0,255,3).tolist())\n",
    "        # x0,y0 = map(int, [0, -r[2]/r[1] ])\n",
    "        # x1,y1 = map(int, [w, -(r[2]+r[0]*w)/r[1] ])\n",
    "        # img2 = cv.line(img2, (x0,y0), (x1,y1), color,3)\n",
    "        img2 = cv.polylines(img2, [pt1],False, color, thickness=1)\n",
    "        img1 = cv.circle(img1,tuple(pt1),8,color,-1)\n",
    "        # img2 = cv.circle(img2,tuple(pt2),8,color,-1)\n",
    "    return img1,img2"
   ]
  },
  {
   "cell_type": "code",
   "execution_count": null,
   "metadata": {},
   "outputs": [],
   "source": [
    "base_path = \"/data2/chaerin/nerf_hyu_shared/box3d\"\n",
    "# pose_file = os.path.join(base_path, \"trajectory_train.txt\")\n",
    "pose_file = os.path.join(base_path, \"slam_poses.txt\")\n",
    "# pose_file = os.path.join(base_path, \"all_frame_poses.txt\")\n",
    "# c2r = np.array([0.81310401, 0., 3.03454548, 0.13, 0., 0.1])\n",
    "c2r = np.array([0., 0., 0., 0., 0., 0.])\n",
    "image_path = os.path.join(base_path,\"cam1\")\n",
    "image_dir = sorted(os.listdir(image_path))\n",
    "fx = 370.94472982794093\n",
    "fy = 370.94472982794093\n",
    "cx = 669.02964375147337\n",
    "cy = 585.87130046898005\n",
    "K = np.array([\n",
    "    [fx, 0., cx],\n",
    "    [0., fy, cy],\n",
    "    [0., 0., 1.]\n",
    "])\n",
    "fidx,pose, _ = loadPoseTxtFile(pose_file)\n",
    "fidx = fidx.tolist()\n",
    "cur_fidx = 523\n",
    "next_fidx = 716\n",
    "cur_idx = fidx.index(cur_fidx)\n",
    "next_idx = fidx.index(next_fidx)\n",
    "r2w1 = pose[:,cur_idx]\n",
    "r2w2 = pose[:,next_idx]\n",
    "c2w1 = mergedTransform(r2w1, c2r)\n",
    "c2w2 = mergedTransform(r2w2, c2r)\n",
    "F = FundamentalMatrix(c2w1,c2w2,K)\n",
    "# img1 = cv.imread(osp.join(image_path, image_dir[cur_fidx]))\n",
    "img1 = cv.imread(osp.join(image_path, '00523.png'))\n",
    "# img2 = cv.imread(osp.join(image_path, image_dir[next_fidx]))\n",
    "img2 = cv.imread(osp.join(image_path, '00716.png'))\n",
    "plt.subplot(1,2,1),plt.imshow(img1)\n",
    "plt.subplot(1,2,2),plt.imshow(img2)\n",
    "pts = plt.ginput(3)\n",
    "pts = np.int32(pts)\n",
    "lines = []\n",
    "pts_homo = []\n",
    "for pt in pts:\n",
    "    pt_homo = np.array([pt[0], pt[1], 1.]).reshape(3,1)\n",
    "    pts_homo.append(pt_homo)\n",
    "    lines.append(F@pt_homo)\n",
    "img3,img4 = drawlines(img1,img2, lines, pts)\n",
    "plt.subplot(1,2,1),plt.imshow(img3)\n",
    "plt.subplot(1,2,2),plt.imshow(img4)\n",
    "plt.show()"
   ]
  }
 ],
 "metadata": {
  "kernelspec": {
   "display_name": "hloc",
   "language": "python",
   "name": "python3"
  },
  "language_info": {
   "name": "python",
   "version": "3.8.13"
  },
  "orig_nbformat": 4,
  "vscode": {
   "interpreter": {
    "hash": "836b1782c5ea3c145c7677ba3357f178691cc96488058bd1ad4dbba3ae7fa3c6"
   }
  }
 },
 "nbformat": 4,
 "nbformat_minor": 2
}
