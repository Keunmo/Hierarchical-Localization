{
 "cells": [
  {
   "cell_type": "code",
   "execution_count": 4,
   "metadata": {},
   "outputs": [],
   "source": [
    "from scipy.spatial.transform import Rotation as R\n",
    "import numpy as np"
   ]
  },
  {
   "cell_type": "code",
   "execution_count": 8,
   "metadata": {},
   "outputs": [],
   "source": [
    "r = [-0.15178555, 0.37758884, 0.27728027, 0.8703467]\n",
    "t = [-0.14371057, -3.6296544, 2.1912692]"
   ]
  },
  {
   "cell_type": "code",
   "execution_count": 9,
   "metadata": {},
   "outputs": [
    {
     "data": {
      "text/plain": [
       "array([[ 0.5610846 , -0.59728505,  0.57309218],\n",
       "       [ 0.36803491,  0.80015358,  0.47360802],\n",
       "       [-0.74144074, -0.05481624,  0.6687756 ]])"
      ]
     },
     "execution_count": 9,
     "metadata": {},
     "output_type": "execute_result"
    }
   ],
   "source": [
    "r = R.from_quat(r)\n",
    "r = r.as_matrix()\n",
    "r"
   ]
  },
  {
   "cell_type": "code",
   "execution_count": 10,
   "metadata": {},
   "outputs": [
    {
     "data": {
      "text/plain": [
       "array([[-0.14371057],\n",
       "       [-3.6296544 ],\n",
       "       [ 2.1912692 ]])"
      ]
     },
     "execution_count": 10,
     "metadata": {},
     "output_type": "execute_result"
    }
   ],
   "source": [
    "t = np.array(t).reshape((3,1))\n",
    "t"
   ]
  },
  {
   "cell_type": "code",
   "execution_count": 11,
   "metadata": {},
   "outputs": [
    {
     "data": {
      "text/plain": [
       "array([[ 0.5610846 , -0.59728505,  0.57309218, -0.14371057],\n",
       "       [ 0.36803491,  0.80015358,  0.47360802, -3.6296544 ],\n",
       "       [-0.74144074, -0.05481624,  0.6687756 ,  2.1912692 ]])"
      ]
     },
     "execution_count": 11,
     "metadata": {},
     "output_type": "execute_result"
    }
   ],
   "source": [
    "p = np.concatenate([r,t],1)\n",
    "p"
   ]
  },
  {
   "cell_type": "code",
   "execution_count": 13,
   "metadata": {},
   "outputs": [],
   "source": [
    "def rodrigues(r: np.ndarray) -> np.ndarray:\n",
    "    '''\n",
    "        if mat, convert to vec.\n",
    "        if vec, convert to mat.\n",
    "    '''\n",
    "    if r.size == 3: return R.from_rotvec(r.squeeze()).as_matrix()\n",
    "    elif r.size == 4: return R.from_quat(r.squeeze()).as_matrix()\n",
    "    else: return R.from_matrix(r).as_rotvec().reshape((3, 1))\n",
    "    \n",
    "def get_rot(transform: np.ndarray) -> np.ndarray:\n",
    "    '''\n",
    "        args\n",
    "        transform: camera pose vec or mat\n",
    "        \n",
    "        return\n",
    "        rotational matrix\n",
    "    '''\n",
    "    if transform.size == 6:\n",
    "        transform = transform.reshape((6, 1))\n",
    "        return rodrigues(transform[:3])\n",
    "    elif transform.shape == (3, 4) or transform.shape == (4, 4): #rotation matrix\n",
    "        return transform[:3, :3]\n",
    "    elif len(transform.shape) == 3: #rotation matrix (w/ batch)\n",
    "        return transform[:, :3, :3]\n",
    "    else:\n",
    "        print(\n",
    "            'Invalid shape of input transform: {}'.format(transform.shape))\n",
    "        return None\n",
    "\n",
    "def get_tr(transform: np.ndarray) -> np.ndarray:\n",
    "    if transform.size == 6:\n",
    "        transform = transform.reshape((6, 1))\n",
    "        return transform[3:6].reshape((3, 1))\n",
    "    elif transform.shape == (3, 4) or transform.shape == (4, 4):\n",
    "        return transform[:3, 3].reshape((3, 1))\n",
    "    elif len(transform.shape) == 3:\n",
    "        return transform[:, :3, 3].T.reshape((3, -1))\n",
    "    else:\n",
    "        print(\n",
    "            'Invalid shape of input transform: {}'.format(transform.shape))\n",
    "        return None\n",
    "\n",
    "def inverse_transform(transform: np.ndarray) -> np.ndarray:\n",
    "    R, tr = get_rot(transform), get_tr(transform)\n",
    "    R_inv = R.transpose()\n",
    "    tr_inv = -R_inv.dot(tr)\n",
    "    if transform.size == 6:\n",
    "        r_inv = rodrigues(R_inv)\n",
    "        return np.concatenate((r_inv, tr_inv), axis=0) # (6, 1) vector\n",
    "    else:\n",
    "        return np.concatenate((R_inv, tr_inv), axis=1) # (3, 4) matrix"
   ]
  },
  {
   "cell_type": "code",
   "execution_count": 16,
   "metadata": {},
   "outputs": [
    {
     "data": {
      "text/plain": [
       "array([[ 0.5610846 ,  0.36803491, -0.74144074,  3.04116958],\n",
       "       [-0.59728505,  0.80015358, -0.05481624,  2.93856192],\n",
       "       [ 0.57309218,  0.47360802,  0.6687756 ,  0.33592546]])"
      ]
     },
     "execution_count": 16,
     "metadata": {},
     "output_type": "execute_result"
    }
   ],
   "source": [
    "inv_p = inverse_transform(p)\n",
    "inv_p"
   ]
  },
  {
   "cell_type": "code",
   "execution_count": 17,
   "metadata": {},
   "outputs": [
    {
     "data": {
      "text/plain": [
       "array([[ 0.3174113 ],\n",
       "       [-0.78960721],\n",
       "       [-0.57984367]])"
      ]
     },
     "execution_count": 17,
     "metadata": {},
     "output_type": "execute_result"
    }
   ],
   "source": [
    "rodrigues(get_rot(inv_p))"
   ]
  },
  {
   "cell_type": "code",
   "execution_count": 18,
   "metadata": {},
   "outputs": [
    {
     "data": {
      "text/plain": [
       "array([[3.04116958],\n",
       "       [2.93856192],\n",
       "       [0.33592546]])"
      ]
     },
     "execution_count": 18,
     "metadata": {},
     "output_type": "execute_result"
    }
   ],
   "source": [
    "get_tr(inv_p)"
   ]
  }
 ],
 "metadata": {
  "kernelspec": {
   "display_name": "hloc",
   "language": "python",
   "name": "python3"
  },
  "language_info": {
   "codemirror_mode": {
    "name": "ipython",
    "version": 3
   },
   "file_extension": ".py",
   "mimetype": "text/x-python",
   "name": "python",
   "nbconvert_exporter": "python",
   "pygments_lexer": "ipython3",
   "version": "3.8.13"
  },
  "orig_nbformat": 4,
  "vscode": {
   "interpreter": {
    "hash": "836b1782c5ea3c145c7677ba3357f178691cc96488058bd1ad4dbba3ae7fa3c6"
   }
  }
 },
 "nbformat": 4,
 "nbformat_minor": 2
}
